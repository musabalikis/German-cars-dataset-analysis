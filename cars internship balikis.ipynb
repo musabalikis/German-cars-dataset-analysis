{
 "cells": [
  {
   "cell_type": "code",
   "execution_count": 45,
   "id": "ad0e585f-1edf-47be-95f8-87e5a67e5b39",
   "metadata": {},
   "outputs": [],
   "source": [
    "import pandas as pd"
   ]
  },
  {
   "cell_type": "code",
   "execution_count": 46,
   "id": "9b7261b2-46b1-40ea-b688-88fae9b33364",
   "metadata": {},
   "outputs": [],
   "source": [
    "car=pd.read_csv(\"cleaned_german_cars_data (1)-Copy1.csv\")"
   ]
  },
  {
   "cell_type": "code",
   "execution_count": 47,
   "id": "5658d0c5-a720-48d6-9837-3eaff8da6b95",
   "metadata": {},
   "outputs": [
    {
     "data": {
      "text/html": [
       "<div>\n",
       "<style scoped>\n",
       "    .dataframe tbody tr th:only-of-type {\n",
       "        vertical-align: middle;\n",
       "    }\n",
       "\n",
       "    .dataframe tbody tr th {\n",
       "        vertical-align: top;\n",
       "    }\n",
       "\n",
       "    .dataframe thead th {\n",
       "        text-align: right;\n",
       "    }\n",
       "</style>\n",
       "<table border=\"1\" class=\"dataframe\">\n",
       "  <thead>\n",
       "    <tr style=\"text-align: right;\">\n",
       "      <th></th>\n",
       "      <th>Unnamed: 0</th>\n",
       "      <th>name</th>\n",
       "      <th>price</th>\n",
       "      <th>description</th>\n",
       "      <th>trassmition</th>\n",
       "      <th>model</th>\n",
       "      <th>milage</th>\n",
       "      <th>fuel</th>\n",
       "      <th>Brand</th>\n",
       "      <th>Segment</th>\n",
       "    </tr>\n",
       "  </thead>\n",
       "  <tbody>\n",
       "    <tr>\n",
       "      <th>0</th>\n",
       "      <td>0</td>\n",
       "      <td>Seat Leon</td>\n",
       "      <td>26118</td>\n",
       "      <td>Sportstourer 1.4 E-hybrid Fr Led Acc Navi</td>\n",
       "      <td>Automatic</td>\n",
       "      <td>2021</td>\n",
       "      <td>52080</td>\n",
       "      <td>Hybrid</td>\n",
       "      <td>Seat</td>\n",
       "      <td>Low-Range</td>\n",
       "    </tr>\n",
       "    <tr>\n",
       "      <th>1</th>\n",
       "      <td>1</td>\n",
       "      <td>Volvo V60</td>\n",
       "      <td>27777</td>\n",
       "      <td>T6 Awd Recharge Plug-in Momentum Pro Ahk</td>\n",
       "      <td>Automatic</td>\n",
       "      <td>2020</td>\n",
       "      <td>107217</td>\n",
       "      <td>Hybrid</td>\n",
       "      <td>Volvo</td>\n",
       "      <td>Premium</td>\n",
       "    </tr>\n",
       "    <tr>\n",
       "      <th>2</th>\n",
       "      <td>2</td>\n",
       "      <td>Volkswagen Tiguan</td>\n",
       "      <td>20392</td>\n",
       "      <td>2.0 Tdi Navi/sound/bmt,comfortline,1.hand</td>\n",
       "      <td>Manual</td>\n",
       "      <td>2017</td>\n",
       "      <td>123000</td>\n",
       "      <td>Diesel</td>\n",
       "      <td>Volkswagen</td>\n",
       "      <td>Premium</td>\n",
       "    </tr>\n",
       "    <tr>\n",
       "      <th>3</th>\n",
       "      <td>3</td>\n",
       "      <td>Volkswagen Tiguan</td>\n",
       "      <td>30967</td>\n",
       "      <td>2.0 Tdi Highline R-line 4mo. Led+navi+acc</td>\n",
       "      <td>Automatic</td>\n",
       "      <td>2019</td>\n",
       "      <td>68100</td>\n",
       "      <td>Diesel</td>\n",
       "      <td>Volkswagen</td>\n",
       "      <td>Premium</td>\n",
       "    </tr>\n",
       "    <tr>\n",
       "      <th>4</th>\n",
       "      <td>4</td>\n",
       "      <td>Volkswagen Tiguan</td>\n",
       "      <td>22892</td>\n",
       "      <td>Join Start-stopp 2hand Ahk Garantie</td>\n",
       "      <td>Manual</td>\n",
       "      <td>2018</td>\n",
       "      <td>105958</td>\n",
       "      <td>Diesel</td>\n",
       "      <td>Volkswagen</td>\n",
       "      <td>Premium</td>\n",
       "    </tr>\n",
       "    <tr>\n",
       "      <th>...</th>\n",
       "      <td>...</td>\n",
       "      <td>...</td>\n",
       "      <td>...</td>\n",
       "      <td>...</td>\n",
       "      <td>...</td>\n",
       "      <td>...</td>\n",
       "      <td>...</td>\n",
       "      <td>...</td>\n",
       "      <td>...</td>\n",
       "      <td>...</td>\n",
       "    </tr>\n",
       "    <tr>\n",
       "      <th>8965</th>\n",
       "      <td>8965</td>\n",
       "      <td>Porsche Cayenne</td>\n",
       "      <td>95691</td>\n",
       "      <td>E-hybrid</td>\n",
       "      <td>Automatic</td>\n",
       "      <td>2022</td>\n",
       "      <td>14800</td>\n",
       "      <td>Hybrid</td>\n",
       "      <td>Porsche</td>\n",
       "      <td>Ultra-Luxury/Exotic</td>\n",
       "    </tr>\n",
       "    <tr>\n",
       "      <th>8966</th>\n",
       "      <td>8966</td>\n",
       "      <td>Porsche Cayenne</td>\n",
       "      <td>47533</td>\n",
       "      <td>Diesel / Sportdesign / Voll / 1.hd.</td>\n",
       "      <td>Automatic</td>\n",
       "      <td>2016</td>\n",
       "      <td>99870</td>\n",
       "      <td>Diesel</td>\n",
       "      <td>Porsche</td>\n",
       "      <td>Ultra-Luxury/Exotic</td>\n",
       "    </tr>\n",
       "    <tr>\n",
       "      <th>8967</th>\n",
       "      <td>8967</td>\n",
       "      <td>Porsche Cayenne</td>\n",
       "      <td>84648</td>\n",
       "      <td>Coupe E-hybrid*head-up*360°cam*panorama*</td>\n",
       "      <td>Automatic</td>\n",
       "      <td>2021</td>\n",
       "      <td>36500</td>\n",
       "      <td>Hybrid</td>\n",
       "      <td>Porsche</td>\n",
       "      <td>Ultra-Luxury/Exotic</td>\n",
       "    </tr>\n",
       "    <tr>\n",
       "      <th>8968</th>\n",
       "      <td>8968</td>\n",
       "      <td>Porsche 718</td>\n",
       "      <td>95657</td>\n",
       "      <td>Gts 4.0 2023 .6 Gang  1.hand,bose</td>\n",
       "      <td>Manual</td>\n",
       "      <td>2023</td>\n",
       "      <td>6500</td>\n",
       "      <td>Petrol</td>\n",
       "      <td>Porsche</td>\n",
       "      <td>Ultra-Luxury/Exotic</td>\n",
       "    </tr>\n",
       "    <tr>\n",
       "      <th>8969</th>\n",
       "      <td>8969</td>\n",
       "      <td>Porsche Cayenne</td>\n",
       "      <td>94771</td>\n",
       "      <td>Gts Coupe*chrono*360°cam*acc*hud*voll*</td>\n",
       "      <td>Automatic</td>\n",
       "      <td>2020</td>\n",
       "      <td>65000</td>\n",
       "      <td>Petrol</td>\n",
       "      <td>Porsche</td>\n",
       "      <td>Ultra-Luxury/Exotic</td>\n",
       "    </tr>\n",
       "  </tbody>\n",
       "</table>\n",
       "<p>8970 rows × 10 columns</p>\n",
       "</div>"
      ],
      "text/plain": [
       "      Unnamed: 0               name  price  \\\n",
       "0              0          Seat Leon  26118   \n",
       "1              1          Volvo V60  27777   \n",
       "2              2  Volkswagen Tiguan  20392   \n",
       "3              3  Volkswagen Tiguan  30967   \n",
       "4              4  Volkswagen Tiguan  22892   \n",
       "...          ...                ...    ...   \n",
       "8965        8965    Porsche Cayenne  95691   \n",
       "8966        8966    Porsche Cayenne  47533   \n",
       "8967        8967    Porsche Cayenne  84648   \n",
       "8968        8968        Porsche 718  95657   \n",
       "8969        8969    Porsche Cayenne  94771   \n",
       "\n",
       "                                    description trassmition  model  milage  \\\n",
       "0     Sportstourer 1.4 E-hybrid Fr Led Acc Navi   Automatic   2021   52080   \n",
       "1      T6 Awd Recharge Plug-in Momentum Pro Ahk   Automatic   2020  107217   \n",
       "2     2.0 Tdi Navi/sound/bmt,comfortline,1.hand      Manual   2017  123000   \n",
       "3     2.0 Tdi Highline R-line 4mo. Led+navi+acc   Automatic   2019   68100   \n",
       "4           Join Start-stopp 2hand Ahk Garantie      Manual   2018  105958   \n",
       "...                                         ...         ...    ...     ...   \n",
       "8965                                   E-hybrid   Automatic   2022   14800   \n",
       "8966        Diesel / Sportdesign / Voll / 1.hd.   Automatic   2016   99870   \n",
       "8967   Coupe E-hybrid*head-up*360°cam*panorama*   Automatic   2021   36500   \n",
       "8968          Gts 4.0 2023 .6 Gang  1.hand,bose      Manual   2023    6500   \n",
       "8969     Gts Coupe*chrono*360°cam*acc*hud*voll*   Automatic   2020   65000   \n",
       "\n",
       "        fuel       Brand              Segment  \n",
       "0     Hybrid        Seat            Low-Range  \n",
       "1     Hybrid       Volvo              Premium  \n",
       "2     Diesel  Volkswagen              Premium  \n",
       "3     Diesel  Volkswagen              Premium  \n",
       "4     Diesel  Volkswagen              Premium  \n",
       "...      ...         ...                  ...  \n",
       "8965  Hybrid     Porsche  Ultra-Luxury/Exotic  \n",
       "8966  Diesel     Porsche  Ultra-Luxury/Exotic  \n",
       "8967  Hybrid     Porsche  Ultra-Luxury/Exotic  \n",
       "8968  Petrol     Porsche  Ultra-Luxury/Exotic  \n",
       "8969  Petrol     Porsche  Ultra-Luxury/Exotic  \n",
       "\n",
       "[8970 rows x 10 columns]"
      ]
     },
     "execution_count": 47,
     "metadata": {},
     "output_type": "execute_result"
    }
   ],
   "source": [
    "car"
   ]
  },
  {
   "cell_type": "markdown",
   "id": "1430f709-bebe-47f0-977c-29909e374ac6",
   "metadata": {},
   "source": [
    "# QUESTION 1"
   ]
  },
  {
   "cell_type": "code",
   "execution_count": 48,
   "id": "25fc1846-997e-4262-a3d7-44949fff2fca",
   "metadata": {},
   "outputs": [
    {
     "name": "stdout",
     "output_type": "stream",
     "text": [
      "<class 'pandas.core.frame.DataFrame'>\n",
      "RangeIndex: 8970 entries, 0 to 8969\n",
      "Data columns (total 10 columns):\n",
      " #   Column       Non-Null Count  Dtype \n",
      "---  ------       --------------  ----- \n",
      " 0   Unnamed: 0   8970 non-null   int64 \n",
      " 1   name         8970 non-null   object\n",
      " 2   price        8970 non-null   int64 \n",
      " 3   description  8943 non-null   object\n",
      " 4   trassmition  8970 non-null   object\n",
      " 5   model        8970 non-null   int64 \n",
      " 6   milage       8970 non-null   int64 \n",
      " 7   fuel         8970 non-null   object\n",
      " 8   Brand        8970 non-null   object\n",
      " 9   Segment      8970 non-null   object\n",
      "dtypes: int64(4), object(6)\n",
      "memory usage: 700.9+ KB\n"
     ]
    }
   ],
   "source": [
    "# checking for info\n",
    "car.info()"
   ]
  },
  {
   "cell_type": "code",
   "execution_count": 49,
   "id": "e04a4f7e-9bb3-44cc-8156-7066587e1a14",
   "metadata": {},
   "outputs": [
    {
     "data": {
      "text/plain": [
       "Unnamed: 0      0\n",
       "name            0\n",
       "price           0\n",
       "description    27\n",
       "trassmition     0\n",
       "model           0\n",
       "milage          0\n",
       "fuel            0\n",
       "Brand           0\n",
       "Segment         0\n",
       "dtype: int64"
      ]
     },
     "execution_count": 49,
     "metadata": {},
     "output_type": "execute_result"
    }
   ],
   "source": [
    "car.isnull().sum()\n",
    "#checking for missing value"
   ]
  },
  {
   "cell_type": "code",
   "execution_count": 50,
   "id": "24069b3a-db7d-428f-9d25-5daa367b977d",
   "metadata": {},
   "outputs": [],
   "source": [
    "# to drop missing value\n",
    "car=car.dropna()"
   ]
  },
  {
   "cell_type": "code",
   "execution_count": 51,
   "id": "26b873d7-0e69-4902-950d-247fdd14ec3b",
   "metadata": {},
   "outputs": [
    {
     "data": {
      "text/plain": [
       "0"
      ]
     },
     "execution_count": 51,
     "metadata": {},
     "output_type": "execute_result"
    }
   ],
   "source": [
    "car.duplicated().sum()\n",
    "# to check for duplicate"
   ]
  },
  {
   "cell_type": "code",
   "execution_count": null,
   "id": "c78927fa-8f9b-43a7-9b14-d94ccccc0b4b",
   "metadata": {},
   "outputs": [],
   "source": []
  },
  {
   "cell_type": "code",
   "execution_count": 52,
   "id": "1a44f9ec-c4e7-49a1-a0ae-08ef81183df6",
   "metadata": {
    "scrolled": true
   },
   "outputs": [
    {
     "data": {
      "text/plain": [
       "Unnamed: 0     8943\n",
       "name            392\n",
       "price          5726\n",
       "description    7195\n",
       "trassmition       2\n",
       "model            11\n",
       "milage         4306\n",
       "fuel              7\n",
       "Brand            52\n",
       "Segment           6\n",
       "dtype: int64"
      ]
     },
     "execution_count": 52,
     "metadata": {},
     "output_type": "execute_result"
    }
   ],
   "source": [
    "car.nunique()\n",
    "# check for unique value"
   ]
  },
  {
   "cell_type": "code",
   "execution_count": 53,
   "id": "d2d34000-be68-468f-bfed-e597e84e97f8",
   "metadata": {},
   "outputs": [
    {
     "data": {
      "text/plain": [
       "Unnamed: 0      int64\n",
       "name           object\n",
       "price           int64\n",
       "description    object\n",
       "trassmition    object\n",
       "model           int64\n",
       "milage          int64\n",
       "fuel           object\n",
       "Brand          object\n",
       "Segment        object\n",
       "dtype: object"
      ]
     },
     "execution_count": 53,
     "metadata": {},
     "output_type": "execute_result"
    }
   ],
   "source": [
    "car.dtypes"
   ]
  },
  {
   "cell_type": "code",
   "execution_count": 54,
   "id": "21ed2ff0-1430-4936-8c77-fa64e097333c",
   "metadata": {},
   "outputs": [
    {
     "data": {
      "text/plain": [
       "Index(['Unnamed: 0', 'name', 'price', 'description', 'trassmition', 'model',\n",
       "       'milage', 'fuel', 'Brand', 'Segment'],\n",
       "      dtype='object')"
      ]
     },
     "execution_count": 54,
     "metadata": {},
     "output_type": "execute_result"
    }
   ],
   "source": [
    "car.columns\n",
    "# to check for a space in the column"
   ]
  },
  {
   "cell_type": "code",
   "execution_count": 55,
   "id": "2b7e2811-efb7-44c6-be83-d4d63edc9d51",
   "metadata": {},
   "outputs": [
    {
     "data": {
      "text/plain": [
       "0               Seat Leon\n",
       "1               Volvo V60\n",
       "2       Volkswagen Tiguan\n",
       "3       Volkswagen Tiguan\n",
       "4       Volkswagen Tiguan\n",
       "              ...        \n",
       "8965      Porsche Cayenne\n",
       "8966      Porsche Cayenne\n",
       "8967      Porsche Cayenne\n",
       "8968          Porsche 718\n",
       "8969      Porsche Cayenne\n",
       "Name: name, Length: 8943, dtype: object"
      ]
     },
     "execution_count": 55,
     "metadata": {},
     "output_type": "execute_result"
    }
   ],
   "source": [
    "car.pop(\"name\")\n",
    "#drop name column"
   ]
  },
  {
   "cell_type": "code",
   "execution_count": 56,
   "id": "f3e4a433-f7ee-4502-a39b-fa5c93a82335",
   "metadata": {},
   "outputs": [
    {
     "data": {
      "text/html": [
       "<div>\n",
       "<style scoped>\n",
       "    .dataframe tbody tr th:only-of-type {\n",
       "        vertical-align: middle;\n",
       "    }\n",
       "\n",
       "    .dataframe tbody tr th {\n",
       "        vertical-align: top;\n",
       "    }\n",
       "\n",
       "    .dataframe thead th {\n",
       "        text-align: right;\n",
       "    }\n",
       "</style>\n",
       "<table border=\"1\" class=\"dataframe\">\n",
       "  <thead>\n",
       "    <tr style=\"text-align: right;\">\n",
       "      <th></th>\n",
       "      <th>Unnamed: 0</th>\n",
       "      <th>price</th>\n",
       "      <th>description</th>\n",
       "      <th>trassmition</th>\n",
       "      <th>model</th>\n",
       "      <th>milage</th>\n",
       "      <th>fuel</th>\n",
       "      <th>Brand</th>\n",
       "      <th>Segment</th>\n",
       "    </tr>\n",
       "  </thead>\n",
       "  <tbody>\n",
       "    <tr>\n",
       "      <th>0</th>\n",
       "      <td>0</td>\n",
       "      <td>26118</td>\n",
       "      <td>Sportstourer 1.4 E-hybrid Fr Led Acc Navi</td>\n",
       "      <td>Automatic</td>\n",
       "      <td>2021</td>\n",
       "      <td>52080</td>\n",
       "      <td>Hybrid</td>\n",
       "      <td>Seat</td>\n",
       "      <td>Low-Range</td>\n",
       "    </tr>\n",
       "    <tr>\n",
       "      <th>1</th>\n",
       "      <td>1</td>\n",
       "      <td>27777</td>\n",
       "      <td>T6 Awd Recharge Plug-in Momentum Pro Ahk</td>\n",
       "      <td>Automatic</td>\n",
       "      <td>2020</td>\n",
       "      <td>107217</td>\n",
       "      <td>Hybrid</td>\n",
       "      <td>Volvo</td>\n",
       "      <td>Premium</td>\n",
       "    </tr>\n",
       "    <tr>\n",
       "      <th>2</th>\n",
       "      <td>2</td>\n",
       "      <td>20392</td>\n",
       "      <td>2.0 Tdi Navi/sound/bmt,comfortline,1.hand</td>\n",
       "      <td>Manual</td>\n",
       "      <td>2017</td>\n",
       "      <td>123000</td>\n",
       "      <td>Diesel</td>\n",
       "      <td>Volkswagen</td>\n",
       "      <td>Premium</td>\n",
       "    </tr>\n",
       "    <tr>\n",
       "      <th>3</th>\n",
       "      <td>3</td>\n",
       "      <td>30967</td>\n",
       "      <td>2.0 Tdi Highline R-line 4mo. Led+navi+acc</td>\n",
       "      <td>Automatic</td>\n",
       "      <td>2019</td>\n",
       "      <td>68100</td>\n",
       "      <td>Diesel</td>\n",
       "      <td>Volkswagen</td>\n",
       "      <td>Premium</td>\n",
       "    </tr>\n",
       "    <tr>\n",
       "      <th>4</th>\n",
       "      <td>4</td>\n",
       "      <td>22892</td>\n",
       "      <td>Join Start-stopp 2hand Ahk Garantie</td>\n",
       "      <td>Manual</td>\n",
       "      <td>2018</td>\n",
       "      <td>105958</td>\n",
       "      <td>Diesel</td>\n",
       "      <td>Volkswagen</td>\n",
       "      <td>Premium</td>\n",
       "    </tr>\n",
       "    <tr>\n",
       "      <th>...</th>\n",
       "      <td>...</td>\n",
       "      <td>...</td>\n",
       "      <td>...</td>\n",
       "      <td>...</td>\n",
       "      <td>...</td>\n",
       "      <td>...</td>\n",
       "      <td>...</td>\n",
       "      <td>...</td>\n",
       "      <td>...</td>\n",
       "    </tr>\n",
       "    <tr>\n",
       "      <th>8965</th>\n",
       "      <td>8965</td>\n",
       "      <td>95691</td>\n",
       "      <td>E-hybrid</td>\n",
       "      <td>Automatic</td>\n",
       "      <td>2022</td>\n",
       "      <td>14800</td>\n",
       "      <td>Hybrid</td>\n",
       "      <td>Porsche</td>\n",
       "      <td>Ultra-Luxury/Exotic</td>\n",
       "    </tr>\n",
       "    <tr>\n",
       "      <th>8966</th>\n",
       "      <td>8966</td>\n",
       "      <td>47533</td>\n",
       "      <td>Diesel / Sportdesign / Voll / 1.hd.</td>\n",
       "      <td>Automatic</td>\n",
       "      <td>2016</td>\n",
       "      <td>99870</td>\n",
       "      <td>Diesel</td>\n",
       "      <td>Porsche</td>\n",
       "      <td>Ultra-Luxury/Exotic</td>\n",
       "    </tr>\n",
       "    <tr>\n",
       "      <th>8967</th>\n",
       "      <td>8967</td>\n",
       "      <td>84648</td>\n",
       "      <td>Coupe E-hybrid*head-up*360°cam*panorama*</td>\n",
       "      <td>Automatic</td>\n",
       "      <td>2021</td>\n",
       "      <td>36500</td>\n",
       "      <td>Hybrid</td>\n",
       "      <td>Porsche</td>\n",
       "      <td>Ultra-Luxury/Exotic</td>\n",
       "    </tr>\n",
       "    <tr>\n",
       "      <th>8968</th>\n",
       "      <td>8968</td>\n",
       "      <td>95657</td>\n",
       "      <td>Gts 4.0 2023 .6 Gang  1.hand,bose</td>\n",
       "      <td>Manual</td>\n",
       "      <td>2023</td>\n",
       "      <td>6500</td>\n",
       "      <td>Petrol</td>\n",
       "      <td>Porsche</td>\n",
       "      <td>Ultra-Luxury/Exotic</td>\n",
       "    </tr>\n",
       "    <tr>\n",
       "      <th>8969</th>\n",
       "      <td>8969</td>\n",
       "      <td>94771</td>\n",
       "      <td>Gts Coupe*chrono*360°cam*acc*hud*voll*</td>\n",
       "      <td>Automatic</td>\n",
       "      <td>2020</td>\n",
       "      <td>65000</td>\n",
       "      <td>Petrol</td>\n",
       "      <td>Porsche</td>\n",
       "      <td>Ultra-Luxury/Exotic</td>\n",
       "    </tr>\n",
       "  </tbody>\n",
       "</table>\n",
       "<p>8943 rows × 9 columns</p>\n",
       "</div>"
      ],
      "text/plain": [
       "      Unnamed: 0  price                                description  \\\n",
       "0              0  26118  Sportstourer 1.4 E-hybrid Fr Led Acc Navi   \n",
       "1              1  27777   T6 Awd Recharge Plug-in Momentum Pro Ahk   \n",
       "2              2  20392  2.0 Tdi Navi/sound/bmt,comfortline,1.hand   \n",
       "3              3  30967  2.0 Tdi Highline R-line 4mo. Led+navi+acc   \n",
       "4              4  22892        Join Start-stopp 2hand Ahk Garantie   \n",
       "...          ...    ...                                        ...   \n",
       "8965        8965  95691                                   E-hybrid   \n",
       "8966        8966  47533        Diesel / Sportdesign / Voll / 1.hd.   \n",
       "8967        8967  84648   Coupe E-hybrid*head-up*360°cam*panorama*   \n",
       "8968        8968  95657          Gts 4.0 2023 .6 Gang  1.hand,bose   \n",
       "8969        8969  94771     Gts Coupe*chrono*360°cam*acc*hud*voll*   \n",
       "\n",
       "     trassmition  model  milage    fuel       Brand              Segment  \n",
       "0      Automatic   2021   52080  Hybrid        Seat            Low-Range  \n",
       "1      Automatic   2020  107217  Hybrid       Volvo              Premium  \n",
       "2         Manual   2017  123000  Diesel  Volkswagen              Premium  \n",
       "3      Automatic   2019   68100  Diesel  Volkswagen              Premium  \n",
       "4         Manual   2018  105958  Diesel  Volkswagen              Premium  \n",
       "...          ...    ...     ...     ...         ...                  ...  \n",
       "8965   Automatic   2022   14800  Hybrid     Porsche  Ultra-Luxury/Exotic  \n",
       "8966   Automatic   2016   99870  Diesel     Porsche  Ultra-Luxury/Exotic  \n",
       "8967   Automatic   2021   36500  Hybrid     Porsche  Ultra-Luxury/Exotic  \n",
       "8968      Manual   2023    6500  Petrol     Porsche  Ultra-Luxury/Exotic  \n",
       "8969   Automatic   2020   65000  Petrol     Porsche  Ultra-Luxury/Exotic  \n",
       "\n",
       "[8943 rows x 9 columns]"
      ]
     },
     "execution_count": 56,
     "metadata": {},
     "output_type": "execute_result"
    }
   ],
   "source": [
    "car"
   ]
  },
  {
   "cell_type": "code",
   "execution_count": 57,
   "id": "fd32d33c-3207-4d41-9259-4ed4dad9008f",
   "metadata": {},
   "outputs": [
    {
     "data": {
      "text/plain": [
       "0          0\n",
       "1          1\n",
       "2          2\n",
       "3          3\n",
       "4          4\n",
       "        ... \n",
       "8965    8965\n",
       "8966    8966\n",
       "8967    8967\n",
       "8968    8968\n",
       "8969    8969\n",
       "Name: Unnamed: 0, Length: 8943, dtype: int64"
      ]
     },
     "execution_count": 57,
     "metadata": {},
     "output_type": "execute_result"
    }
   ],
   "source": [
    "#drop unnamed column\n",
    "car.pop(\"Unnamed: 0\")"
   ]
  },
  {
   "cell_type": "code",
   "execution_count": 58,
   "id": "493659d8-87c7-4863-be3f-20f9ee5d590b",
   "metadata": {},
   "outputs": [
    {
     "data": {
      "text/html": [
       "<div>\n",
       "<style scoped>\n",
       "    .dataframe tbody tr th:only-of-type {\n",
       "        vertical-align: middle;\n",
       "    }\n",
       "\n",
       "    .dataframe tbody tr th {\n",
       "        vertical-align: top;\n",
       "    }\n",
       "\n",
       "    .dataframe thead th {\n",
       "        text-align: right;\n",
       "    }\n",
       "</style>\n",
       "<table border=\"1\" class=\"dataframe\">\n",
       "  <thead>\n",
       "    <tr style=\"text-align: right;\">\n",
       "      <th></th>\n",
       "      <th>price</th>\n",
       "      <th>description</th>\n",
       "      <th>trassmition</th>\n",
       "      <th>model</th>\n",
       "      <th>milage</th>\n",
       "      <th>fuel</th>\n",
       "      <th>Brand</th>\n",
       "      <th>Segment</th>\n",
       "    </tr>\n",
       "  </thead>\n",
       "  <tbody>\n",
       "    <tr>\n",
       "      <th>0</th>\n",
       "      <td>26118</td>\n",
       "      <td>Sportstourer 1.4 E-hybrid Fr Led Acc Navi</td>\n",
       "      <td>Automatic</td>\n",
       "      <td>2021</td>\n",
       "      <td>52080</td>\n",
       "      <td>Hybrid</td>\n",
       "      <td>Seat</td>\n",
       "      <td>Low-Range</td>\n",
       "    </tr>\n",
       "    <tr>\n",
       "      <th>1</th>\n",
       "      <td>27777</td>\n",
       "      <td>T6 Awd Recharge Plug-in Momentum Pro Ahk</td>\n",
       "      <td>Automatic</td>\n",
       "      <td>2020</td>\n",
       "      <td>107217</td>\n",
       "      <td>Hybrid</td>\n",
       "      <td>Volvo</td>\n",
       "      <td>Premium</td>\n",
       "    </tr>\n",
       "    <tr>\n",
       "      <th>2</th>\n",
       "      <td>20392</td>\n",
       "      <td>2.0 Tdi Navi/sound/bmt,comfortline,1.hand</td>\n",
       "      <td>Manual</td>\n",
       "      <td>2017</td>\n",
       "      <td>123000</td>\n",
       "      <td>Diesel</td>\n",
       "      <td>Volkswagen</td>\n",
       "      <td>Premium</td>\n",
       "    </tr>\n",
       "    <tr>\n",
       "      <th>3</th>\n",
       "      <td>30967</td>\n",
       "      <td>2.0 Tdi Highline R-line 4mo. Led+navi+acc</td>\n",
       "      <td>Automatic</td>\n",
       "      <td>2019</td>\n",
       "      <td>68100</td>\n",
       "      <td>Diesel</td>\n",
       "      <td>Volkswagen</td>\n",
       "      <td>Premium</td>\n",
       "    </tr>\n",
       "    <tr>\n",
       "      <th>4</th>\n",
       "      <td>22892</td>\n",
       "      <td>Join Start-stopp 2hand Ahk Garantie</td>\n",
       "      <td>Manual</td>\n",
       "      <td>2018</td>\n",
       "      <td>105958</td>\n",
       "      <td>Diesel</td>\n",
       "      <td>Volkswagen</td>\n",
       "      <td>Premium</td>\n",
       "    </tr>\n",
       "    <tr>\n",
       "      <th>...</th>\n",
       "      <td>...</td>\n",
       "      <td>...</td>\n",
       "      <td>...</td>\n",
       "      <td>...</td>\n",
       "      <td>...</td>\n",
       "      <td>...</td>\n",
       "      <td>...</td>\n",
       "      <td>...</td>\n",
       "    </tr>\n",
       "    <tr>\n",
       "      <th>8965</th>\n",
       "      <td>95691</td>\n",
       "      <td>E-hybrid</td>\n",
       "      <td>Automatic</td>\n",
       "      <td>2022</td>\n",
       "      <td>14800</td>\n",
       "      <td>Hybrid</td>\n",
       "      <td>Porsche</td>\n",
       "      <td>Ultra-Luxury/Exotic</td>\n",
       "    </tr>\n",
       "    <tr>\n",
       "      <th>8966</th>\n",
       "      <td>47533</td>\n",
       "      <td>Diesel / Sportdesign / Voll / 1.hd.</td>\n",
       "      <td>Automatic</td>\n",
       "      <td>2016</td>\n",
       "      <td>99870</td>\n",
       "      <td>Diesel</td>\n",
       "      <td>Porsche</td>\n",
       "      <td>Ultra-Luxury/Exotic</td>\n",
       "    </tr>\n",
       "    <tr>\n",
       "      <th>8967</th>\n",
       "      <td>84648</td>\n",
       "      <td>Coupe E-hybrid*head-up*360°cam*panorama*</td>\n",
       "      <td>Automatic</td>\n",
       "      <td>2021</td>\n",
       "      <td>36500</td>\n",
       "      <td>Hybrid</td>\n",
       "      <td>Porsche</td>\n",
       "      <td>Ultra-Luxury/Exotic</td>\n",
       "    </tr>\n",
       "    <tr>\n",
       "      <th>8968</th>\n",
       "      <td>95657</td>\n",
       "      <td>Gts 4.0 2023 .6 Gang  1.hand,bose</td>\n",
       "      <td>Manual</td>\n",
       "      <td>2023</td>\n",
       "      <td>6500</td>\n",
       "      <td>Petrol</td>\n",
       "      <td>Porsche</td>\n",
       "      <td>Ultra-Luxury/Exotic</td>\n",
       "    </tr>\n",
       "    <tr>\n",
       "      <th>8969</th>\n",
       "      <td>94771</td>\n",
       "      <td>Gts Coupe*chrono*360°cam*acc*hud*voll*</td>\n",
       "      <td>Automatic</td>\n",
       "      <td>2020</td>\n",
       "      <td>65000</td>\n",
       "      <td>Petrol</td>\n",
       "      <td>Porsche</td>\n",
       "      <td>Ultra-Luxury/Exotic</td>\n",
       "    </tr>\n",
       "  </tbody>\n",
       "</table>\n",
       "<p>8943 rows × 8 columns</p>\n",
       "</div>"
      ],
      "text/plain": [
       "      price                                description trassmition  model  \\\n",
       "0     26118  Sportstourer 1.4 E-hybrid Fr Led Acc Navi   Automatic   2021   \n",
       "1     27777   T6 Awd Recharge Plug-in Momentum Pro Ahk   Automatic   2020   \n",
       "2     20392  2.0 Tdi Navi/sound/bmt,comfortline,1.hand      Manual   2017   \n",
       "3     30967  2.0 Tdi Highline R-line 4mo. Led+navi+acc   Automatic   2019   \n",
       "4     22892        Join Start-stopp 2hand Ahk Garantie      Manual   2018   \n",
       "...     ...                                        ...         ...    ...   \n",
       "8965  95691                                   E-hybrid   Automatic   2022   \n",
       "8966  47533        Diesel / Sportdesign / Voll / 1.hd.   Automatic   2016   \n",
       "8967  84648   Coupe E-hybrid*head-up*360°cam*panorama*   Automatic   2021   \n",
       "8968  95657          Gts 4.0 2023 .6 Gang  1.hand,bose      Manual   2023   \n",
       "8969  94771     Gts Coupe*chrono*360°cam*acc*hud*voll*   Automatic   2020   \n",
       "\n",
       "      milage    fuel       Brand              Segment  \n",
       "0      52080  Hybrid        Seat            Low-Range  \n",
       "1     107217  Hybrid       Volvo              Premium  \n",
       "2     123000  Diesel  Volkswagen              Premium  \n",
       "3      68100  Diesel  Volkswagen              Premium  \n",
       "4     105958  Diesel  Volkswagen              Premium  \n",
       "...      ...     ...         ...                  ...  \n",
       "8965   14800  Hybrid     Porsche  Ultra-Luxury/Exotic  \n",
       "8966   99870  Diesel     Porsche  Ultra-Luxury/Exotic  \n",
       "8967   36500  Hybrid     Porsche  Ultra-Luxury/Exotic  \n",
       "8968    6500  Petrol     Porsche  Ultra-Luxury/Exotic  \n",
       "8969   65000  Petrol     Porsche  Ultra-Luxury/Exotic  \n",
       "\n",
       "[8943 rows x 8 columns]"
      ]
     },
     "execution_count": 58,
     "metadata": {},
     "output_type": "execute_result"
    }
   ],
   "source": [
    "car"
   ]
  },
  {
   "cell_type": "code",
   "execution_count": 59,
   "id": "6451b976-e2b4-4c35-98b8-04c5a11eac83",
   "metadata": {},
   "outputs": [
    {
     "data": {
      "text/plain": [
       "1006"
      ]
     },
     "execution_count": 59,
     "metadata": {},
     "output_type": "execute_result"
    }
   ],
   "source": [
    "car.duplicated().sum()\n",
    "# to check for duplicate after dropping name amd s/n column"
   ]
  },
  {
   "cell_type": "code",
   "execution_count": 60,
   "id": "687999f0-c35a-4d9b-a428-c57ea50192d1",
   "metadata": {
    "scrolled": true
   },
   "outputs": [],
   "source": [
    "car=car.drop_duplicates(keep=\"first\")\n",
    "# drop duplicate"
   ]
  },
  {
   "cell_type": "code",
   "execution_count": 61,
   "id": "c18e7120-8058-4aa9-9f2f-b861a338ed54",
   "metadata": {},
   "outputs": [],
   "source": [
    "import warnings\n",
    "warnings.filterwarings=(\"ignore\")\n",
    "# this means to ignore any sign of warning"
   ]
  },
  {
   "cell_type": "code",
   "execution_count": 62,
   "id": "9fd080c1-64a0-4b06-bbbe-6fb0588230b3",
   "metadata": {},
   "outputs": [],
   "source": [
    "# QUESTION 2"
   ]
  },
  {
   "cell_type": "code",
   "execution_count": 63,
   "id": "a578ae27-2007-4f25-8dc7-baf8560e2760",
   "metadata": {},
   "outputs": [
    {
     "name": "stderr",
     "output_type": "stream",
     "text": [
      "C:\\Users\\Admin\\AppData\\Local\\Temp\\ipykernel_8572\\2760873506.py:1: SettingWithCopyWarning:\n",
      "\n",
      "\n",
      "A value is trying to be set on a copy of a slice from a DataFrame\n",
      "\n",
      "See the caveats in the documentation: https://pandas.pydata.org/pandas-docs/stable/user_guide/indexing.html#returning-a-view-versus-a-copy\n",
      "\n"
     ]
    }
   ],
   "source": [
    "car.rename(columns={\"trassmition\":\"transmission\"},inplace=True)\n",
    "# renaming transmition to transmission"
   ]
  },
  {
   "cell_type": "code",
   "execution_count": 64,
   "id": "2913830d-756c-426d-9a8e-0885beacab67",
   "metadata": {},
   "outputs": [
    {
     "data": {
      "text/html": [
       "<div>\n",
       "<style scoped>\n",
       "    .dataframe tbody tr th:only-of-type {\n",
       "        vertical-align: middle;\n",
       "    }\n",
       "\n",
       "    .dataframe tbody tr th {\n",
       "        vertical-align: top;\n",
       "    }\n",
       "\n",
       "    .dataframe thead th {\n",
       "        text-align: right;\n",
       "    }\n",
       "</style>\n",
       "<table border=\"1\" class=\"dataframe\">\n",
       "  <thead>\n",
       "    <tr style=\"text-align: right;\">\n",
       "      <th></th>\n",
       "      <th>price</th>\n",
       "      <th>description</th>\n",
       "      <th>transmission</th>\n",
       "      <th>model</th>\n",
       "      <th>milage</th>\n",
       "      <th>fuel</th>\n",
       "      <th>Brand</th>\n",
       "      <th>Segment</th>\n",
       "    </tr>\n",
       "  </thead>\n",
       "  <tbody>\n",
       "    <tr>\n",
       "      <th>0</th>\n",
       "      <td>26118</td>\n",
       "      <td>Sportstourer 1.4 E-hybrid Fr Led Acc Navi</td>\n",
       "      <td>Automatic</td>\n",
       "      <td>2021</td>\n",
       "      <td>52080</td>\n",
       "      <td>Hybrid</td>\n",
       "      <td>Seat</td>\n",
       "      <td>Low-Range</td>\n",
       "    </tr>\n",
       "    <tr>\n",
       "      <th>1</th>\n",
       "      <td>27777</td>\n",
       "      <td>T6 Awd Recharge Plug-in Momentum Pro Ahk</td>\n",
       "      <td>Automatic</td>\n",
       "      <td>2020</td>\n",
       "      <td>107217</td>\n",
       "      <td>Hybrid</td>\n",
       "      <td>Volvo</td>\n",
       "      <td>Premium</td>\n",
       "    </tr>\n",
       "    <tr>\n",
       "      <th>2</th>\n",
       "      <td>20392</td>\n",
       "      <td>2.0 Tdi Navi/sound/bmt,comfortline,1.hand</td>\n",
       "      <td>Manual</td>\n",
       "      <td>2017</td>\n",
       "      <td>123000</td>\n",
       "      <td>Diesel</td>\n",
       "      <td>Volkswagen</td>\n",
       "      <td>Premium</td>\n",
       "    </tr>\n",
       "    <tr>\n",
       "      <th>3</th>\n",
       "      <td>30967</td>\n",
       "      <td>2.0 Tdi Highline R-line 4mo. Led+navi+acc</td>\n",
       "      <td>Automatic</td>\n",
       "      <td>2019</td>\n",
       "      <td>68100</td>\n",
       "      <td>Diesel</td>\n",
       "      <td>Volkswagen</td>\n",
       "      <td>Premium</td>\n",
       "    </tr>\n",
       "    <tr>\n",
       "      <th>4</th>\n",
       "      <td>22892</td>\n",
       "      <td>Join Start-stopp 2hand Ahk Garantie</td>\n",
       "      <td>Manual</td>\n",
       "      <td>2018</td>\n",
       "      <td>105958</td>\n",
       "      <td>Diesel</td>\n",
       "      <td>Volkswagen</td>\n",
       "      <td>Premium</td>\n",
       "    </tr>\n",
       "    <tr>\n",
       "      <th>...</th>\n",
       "      <td>...</td>\n",
       "      <td>...</td>\n",
       "      <td>...</td>\n",
       "      <td>...</td>\n",
       "      <td>...</td>\n",
       "      <td>...</td>\n",
       "      <td>...</td>\n",
       "      <td>...</td>\n",
       "    </tr>\n",
       "    <tr>\n",
       "      <th>8965</th>\n",
       "      <td>95691</td>\n",
       "      <td>E-hybrid</td>\n",
       "      <td>Automatic</td>\n",
       "      <td>2022</td>\n",
       "      <td>14800</td>\n",
       "      <td>Hybrid</td>\n",
       "      <td>Porsche</td>\n",
       "      <td>Ultra-Luxury/Exotic</td>\n",
       "    </tr>\n",
       "    <tr>\n",
       "      <th>8966</th>\n",
       "      <td>47533</td>\n",
       "      <td>Diesel / Sportdesign / Voll / 1.hd.</td>\n",
       "      <td>Automatic</td>\n",
       "      <td>2016</td>\n",
       "      <td>99870</td>\n",
       "      <td>Diesel</td>\n",
       "      <td>Porsche</td>\n",
       "      <td>Ultra-Luxury/Exotic</td>\n",
       "    </tr>\n",
       "    <tr>\n",
       "      <th>8967</th>\n",
       "      <td>84648</td>\n",
       "      <td>Coupe E-hybrid*head-up*360°cam*panorama*</td>\n",
       "      <td>Automatic</td>\n",
       "      <td>2021</td>\n",
       "      <td>36500</td>\n",
       "      <td>Hybrid</td>\n",
       "      <td>Porsche</td>\n",
       "      <td>Ultra-Luxury/Exotic</td>\n",
       "    </tr>\n",
       "    <tr>\n",
       "      <th>8968</th>\n",
       "      <td>95657</td>\n",
       "      <td>Gts 4.0 2023 .6 Gang  1.hand,bose</td>\n",
       "      <td>Manual</td>\n",
       "      <td>2023</td>\n",
       "      <td>6500</td>\n",
       "      <td>Petrol</td>\n",
       "      <td>Porsche</td>\n",
       "      <td>Ultra-Luxury/Exotic</td>\n",
       "    </tr>\n",
       "    <tr>\n",
       "      <th>8969</th>\n",
       "      <td>94771</td>\n",
       "      <td>Gts Coupe*chrono*360°cam*acc*hud*voll*</td>\n",
       "      <td>Automatic</td>\n",
       "      <td>2020</td>\n",
       "      <td>65000</td>\n",
       "      <td>Petrol</td>\n",
       "      <td>Porsche</td>\n",
       "      <td>Ultra-Luxury/Exotic</td>\n",
       "    </tr>\n",
       "  </tbody>\n",
       "</table>\n",
       "<p>7937 rows × 8 columns</p>\n",
       "</div>"
      ],
      "text/plain": [
       "      price                                description transmission  model  \\\n",
       "0     26118  Sportstourer 1.4 E-hybrid Fr Led Acc Navi    Automatic   2021   \n",
       "1     27777   T6 Awd Recharge Plug-in Momentum Pro Ahk    Automatic   2020   \n",
       "2     20392  2.0 Tdi Navi/sound/bmt,comfortline,1.hand       Manual   2017   \n",
       "3     30967  2.0 Tdi Highline R-line 4mo. Led+navi+acc    Automatic   2019   \n",
       "4     22892        Join Start-stopp 2hand Ahk Garantie       Manual   2018   \n",
       "...     ...                                        ...          ...    ...   \n",
       "8965  95691                                   E-hybrid    Automatic   2022   \n",
       "8966  47533        Diesel / Sportdesign / Voll / 1.hd.    Automatic   2016   \n",
       "8967  84648   Coupe E-hybrid*head-up*360°cam*panorama*    Automatic   2021   \n",
       "8968  95657          Gts 4.0 2023 .6 Gang  1.hand,bose       Manual   2023   \n",
       "8969  94771     Gts Coupe*chrono*360°cam*acc*hud*voll*    Automatic   2020   \n",
       "\n",
       "      milage    fuel       Brand              Segment  \n",
       "0      52080  Hybrid        Seat            Low-Range  \n",
       "1     107217  Hybrid       Volvo              Premium  \n",
       "2     123000  Diesel  Volkswagen              Premium  \n",
       "3      68100  Diesel  Volkswagen              Premium  \n",
       "4     105958  Diesel  Volkswagen              Premium  \n",
       "...      ...     ...         ...                  ...  \n",
       "8965   14800  Hybrid     Porsche  Ultra-Luxury/Exotic  \n",
       "8966   99870  Diesel     Porsche  Ultra-Luxury/Exotic  \n",
       "8967   36500  Hybrid     Porsche  Ultra-Luxury/Exotic  \n",
       "8968    6500  Petrol     Porsche  Ultra-Luxury/Exotic  \n",
       "8969   65000  Petrol     Porsche  Ultra-Luxury/Exotic  \n",
       "\n",
       "[7937 rows x 8 columns]"
      ]
     },
     "execution_count": 64,
     "metadata": {},
     "output_type": "execute_result"
    }
   ],
   "source": [
    "car"
   ]
  },
  {
   "cell_type": "code",
   "execution_count": 65,
   "id": "725c7e54-79b8-4f24-b9bf-dd113cbdf2f2",
   "metadata": {},
   "outputs": [],
   "source": [
    "#python plotly is an interactive visuzlization tool\n",
    "#it is used to interpret data, it is easy to understand"
   ]
  },
  {
   "cell_type": "code",
   "execution_count": 66,
   "id": "ba613be3-c262-4898-a1a6-f4faa5d1cef7",
   "metadata": {},
   "outputs": [],
   "source": [
    "import matplotlib.pyplot as plt"
   ]
  },
  {
   "cell_type": "code",
   "execution_count": 67,
   "id": "568fb82f-37cb-43c0-a817-2cef1829e5ad",
   "metadata": {},
   "outputs": [
    {
     "data": {
      "image/png": "[encoded data removed]",
      "text/plain": [
       "<Figure size 500x400 with 1 Axes>"
      ]
     },
     "metadata": {},
     "output_type": "display_data"
    }
   ],
   "source": [
    "plt.figure(figsize=(5,4))\n",
    "car[\"transmission\"].value_counts().plot(kind=\"bar\",color=[\"green\",\"orange\"])\n",
    "plt.title(\"distribution of automatic cars to manual cars\")\n",
    "plt.xlabel(\"transmission\")\n",
    "plt.ylabel(\"count\")\n",
    "plt.show()"
   ]
  },
  {
   "cell_type": "markdown",
   "id": "cf76d7e8-5f6f-4e2c-8e8f-a31bd53af9ef",
   "metadata": {},
   "source": [
    "# QUESTION 4"
   ]
  },
  {
   "cell_type": "code",
   "execution_count": 68,
   "id": "eb98003d-f781-41bf-a328-e585554faad1",
   "metadata": {},
   "outputs": [],
   "source": [
    "used_2024 = car.loc[(car[\"model\"] == 2024) & (car[\"milage\"] >100)]\n",
    "# rows of used car in 2024 ie milage >100"
   ]
  },
  {
   "cell_type": "code",
   "execution_count": 69,
   "id": "ac6ca3be-f473-4ac9-9295-4fe7d39f8950",
   "metadata": {},
   "outputs": [
    {
     "data": {
      "text/html": [
       "<div>\n",
       "<style scoped>\n",
       "    .dataframe tbody tr th:only-of-type {\n",
       "        vertical-align: middle;\n",
       "    }\n",
       "\n",
       "    .dataframe tbody tr th {\n",
       "        vertical-align: top;\n",
       "    }\n",
       "\n",
       "    .dataframe thead th {\n",
       "        text-align: right;\n",
       "    }\n",
       "</style>\n",
       "<table border=\"1\" class=\"dataframe\">\n",
       "  <thead>\n",
       "    <tr style=\"text-align: right;\">\n",
       "      <th></th>\n",
       "      <th>price</th>\n",
       "      <th>description</th>\n",
       "      <th>transmission</th>\n",
       "      <th>model</th>\n",
       "      <th>milage</th>\n",
       "      <th>fuel</th>\n",
       "      <th>Brand</th>\n",
       "      <th>Segment</th>\n",
       "    </tr>\n",
       "  </thead>\n",
       "  <tbody>\n",
       "    <tr>\n",
       "      <th>7</th>\n",
       "      <td>38297</td>\n",
       "      <td>R-line Pano Kam Navi Iq-light 19'' Black</td>\n",
       "      <td>Automatic</td>\n",
       "      <td>2024</td>\n",
       "      <td>6123</td>\n",
       "      <td>Petrol</td>\n",
       "      <td>Volkswagen</td>\n",
       "      <td>Premium</td>\n",
       "    </tr>\n",
       "    <tr>\n",
       "      <th>18</th>\n",
       "      <td>95137</td>\n",
       "      <td>S*acc,ahk,bose,pano,tempolim.,14-wege,360°</td>\n",
       "      <td>Automatic</td>\n",
       "      <td>2024</td>\n",
       "      <td>14300</td>\n",
       "      <td>Petrol</td>\n",
       "      <td>Porsche</td>\n",
       "      <td>Ultra-Luxury/Exotic</td>\n",
       "    </tr>\n",
       "    <tr>\n",
       "      <th>20</th>\n",
       "      <td>34797</td>\n",
       "      <td>Pure Tech Gt Eat *7-sitze*acc*led*upe:49</td>\n",
       "      <td>Automatic</td>\n",
       "      <td>2024</td>\n",
       "      <td>8231</td>\n",
       "      <td>Petrol</td>\n",
       "      <td>Peugeot</td>\n",
       "      <td>Mid-Range</td>\n",
       "    </tr>\n",
       "    <tr>\n",
       "      <th>78</th>\n",
       "      <td>60937</td>\n",
       "      <td>Sportback 2xs-line Pano Ahk360° Kamera</td>\n",
       "      <td>Automatic</td>\n",
       "      <td>2024</td>\n",
       "      <td>7130</td>\n",
       "      <td>Petrol</td>\n",
       "      <td>Audi</td>\n",
       "      <td>Luxury</td>\n",
       "    </tr>\n",
       "    <tr>\n",
       "      <th>88</th>\n",
       "      <td>74427</td>\n",
       "      <td>Avant 40 Tdi Quattro Edition One Lp: 82.515,-</td>\n",
       "      <td>Automatic</td>\n",
       "      <td>2024</td>\n",
       "      <td>4000</td>\n",
       "      <td>Diesel</td>\n",
       "      <td>Audi</td>\n",
       "      <td>Luxury</td>\n",
       "    </tr>\n",
       "    <tr>\n",
       "      <th>...</th>\n",
       "      <td>...</td>\n",
       "      <td>...</td>\n",
       "      <td>...</td>\n",
       "      <td>...</td>\n",
       "      <td>...</td>\n",
       "      <td>...</td>\n",
       "      <td>...</td>\n",
       "      <td>...</td>\n",
       "    </tr>\n",
       "    <tr>\n",
       "      <th>8898</th>\n",
       "      <td>24547</td>\n",
       "      <td>Style 1.0 Tsi Dsg Lm Led W-paket Navi</td>\n",
       "      <td>Automatic</td>\n",
       "      <td>2024</td>\n",
       "      <td>9986</td>\n",
       "      <td>Petrol</td>\n",
       "      <td>Seat</td>\n",
       "      <td>Low-Range</td>\n",
       "    </tr>\n",
       "    <tr>\n",
       "      <th>8923</th>\n",
       "      <td>50417</td>\n",
       "      <td>Techno 220 Long Range</td>\n",
       "      <td>Automatic</td>\n",
       "      <td>2024</td>\n",
       "      <td>800</td>\n",
       "      <td>Not specified</td>\n",
       "      <td>Renault</td>\n",
       "      <td>Unknown</td>\n",
       "    </tr>\n",
       "    <tr>\n",
       "      <th>8924</th>\n",
       "      <td>47704</td>\n",
       "      <td>E-tech Esprit Alpine 220 Aktion Gewerbe*</td>\n",
       "      <td>Manual</td>\n",
       "      <td>2024</td>\n",
       "      <td>2500</td>\n",
       "      <td>Not specified</td>\n",
       "      <td>Renault</td>\n",
       "      <td>Unknown</td>\n",
       "    </tr>\n",
       "    <tr>\n",
       "      <th>8925</th>\n",
       "      <td>51704</td>\n",
       "      <td>E-tech Esprit Alpine 220 Long Range</td>\n",
       "      <td>Manual</td>\n",
       "      <td>2024</td>\n",
       "      <td>2500</td>\n",
       "      <td>Not specified</td>\n",
       "      <td>Renault</td>\n",
       "      <td>Unknown</td>\n",
       "    </tr>\n",
       "    <tr>\n",
       "      <th>8948</th>\n",
       "      <td>140927</td>\n",
       "      <td>4s ''21-zoll Innodrive Headup Hd-matrix L</td>\n",
       "      <td>Automatic</td>\n",
       "      <td>2024</td>\n",
       "      <td>6900</td>\n",
       "      <td>Not specified</td>\n",
       "      <td>Porsche</td>\n",
       "      <td>Ultra-Luxury/Exotic</td>\n",
       "    </tr>\n",
       "  </tbody>\n",
       "</table>\n",
       "<p>921 rows × 8 columns</p>\n",
       "</div>"
      ],
      "text/plain": [
       "       price                                    description transmission  \\\n",
       "7      38297       R-line Pano Kam Navi Iq-light 19'' Black    Automatic   \n",
       "18     95137     S*acc,ahk,bose,pano,tempolim.,14-wege,360°    Automatic   \n",
       "20     34797       Pure Tech Gt Eat *7-sitze*acc*led*upe:49    Automatic   \n",
       "78     60937         Sportback 2xs-line Pano Ahk360° Kamera    Automatic   \n",
       "88     74427  Avant 40 Tdi Quattro Edition One Lp: 82.515,-    Automatic   \n",
       "...      ...                                            ...          ...   \n",
       "8898   24547          Style 1.0 Tsi Dsg Lm Led W-paket Navi    Automatic   \n",
       "8923   50417                          Techno 220 Long Range    Automatic   \n",
       "8924   47704       E-tech Esprit Alpine 220 Aktion Gewerbe*       Manual   \n",
       "8925   51704            E-tech Esprit Alpine 220 Long Range       Manual   \n",
       "8948  140927      4s ''21-zoll Innodrive Headup Hd-matrix L    Automatic   \n",
       "\n",
       "      model  milage           fuel       Brand              Segment  \n",
       "7      2024    6123         Petrol  Volkswagen              Premium  \n",
       "18     2024   14300         Petrol     Porsche  Ultra-Luxury/Exotic  \n",
       "20     2024    8231         Petrol     Peugeot            Mid-Range  \n",
       "78     2024    7130         Petrol        Audi               Luxury  \n",
       "88     2024    4000         Diesel        Audi               Luxury  \n",
       "...     ...     ...            ...         ...                  ...  \n",
       "8898   2024    9986         Petrol        Seat            Low-Range  \n",
       "8923   2024     800  Not specified     Renault              Unknown  \n",
       "8924   2024    2500  Not specified     Renault              Unknown  \n",
       "8925   2024    2500  Not specified     Renault              Unknown  \n",
       "8948   2024    6900  Not specified     Porsche  Ultra-Luxury/Exotic  \n",
       "\n",
       "[921 rows x 8 columns]"
      ]
     },
     "execution_count": 69,
     "metadata": {},
     "output_type": "execute_result"
    }
   ],
   "source": [
    "used_2024"
   ]
  },
  {
   "cell_type": "markdown",
   "id": "98947a16-4287-44d4-a761-d5cdffd86012",
   "metadata": {},
   "source": [
    "# QUESTION"
   ]
  },
  {
   "cell_type": "code",
   "execution_count": null,
   "id": "d9c84fdb-a8fd-4825-85ee-73dd9059c89a",
   "metadata": {},
   "outputs": [],
   "source": []
  },
  {
   "cell_type": "code",
   "execution_count": 70,
   "id": "810f752c-8288-45da-a3a1-580006208a51",
   "metadata": {},
   "outputs": [
    {
     "data": {
      "text/html": [
       "<div>\n",
       "<style scoped>\n",
       "    .dataframe tbody tr th:only-of-type {\n",
       "        vertical-align: middle;\n",
       "    }\n",
       "\n",
       "    .dataframe tbody tr th {\n",
       "        vertical-align: top;\n",
       "    }\n",
       "\n",
       "    .dataframe thead th {\n",
       "        text-align: right;\n",
       "    }\n",
       "</style>\n",
       "<table border=\"1\" class=\"dataframe\">\n",
       "  <thead>\n",
       "    <tr style=\"text-align: right;\">\n",
       "      <th></th>\n",
       "      <th>price</th>\n",
       "      <th>description</th>\n",
       "      <th>transmission</th>\n",
       "      <th>model</th>\n",
       "      <th>milage</th>\n",
       "      <th>fuel</th>\n",
       "      <th>Brand</th>\n",
       "      <th>Segment</th>\n",
       "    </tr>\n",
       "  </thead>\n",
       "  <tbody>\n",
       "    <tr>\n",
       "      <th>0</th>\n",
       "      <td>26118</td>\n",
       "      <td>Sportstourer 1.4 E-hybrid Fr Led Acc Navi</td>\n",
       "      <td>Automatic</td>\n",
       "      <td>2021</td>\n",
       "      <td>52080</td>\n",
       "      <td>Hybrid</td>\n",
       "      <td>Seat</td>\n",
       "      <td>Low-Range</td>\n",
       "    </tr>\n",
       "    <tr>\n",
       "      <th>1008</th>\n",
       "      <td>43768</td>\n",
       "      <td>Fr 2.0 Tdi 150 Dsg Nav Shz Kessy Ehk ...</td>\n",
       "      <td>Automatic</td>\n",
       "      <td>2024</td>\n",
       "      <td>10</td>\n",
       "      <td>Diesel</td>\n",
       "      <td>Seat</td>\n",
       "      <td>Low-Range</td>\n",
       "    </tr>\n",
       "    <tr>\n",
       "      <th>1009</th>\n",
       "      <td>19904</td>\n",
       "      <td>St \"fr\"_climatr_sitzh_led_sw_abstandstemp..</td>\n",
       "      <td>Manual</td>\n",
       "      <td>2019</td>\n",
       "      <td>42500</td>\n",
       "      <td>Petrol</td>\n",
       "      <td>Seat</td>\n",
       "      <td>Low-Range</td>\n",
       "    </tr>\n",
       "    <tr>\n",
       "      <th>1010</th>\n",
       "      <td>36682</td>\n",
       "      <td>Style 1.5 Tsi 150 Dsg Led Nav Kam Pdc...</td>\n",
       "      <td>Automatic</td>\n",
       "      <td>2024</td>\n",
       "      <td>10</td>\n",
       "      <td>Petrol</td>\n",
       "      <td>Seat</td>\n",
       "      <td>Low-Range</td>\n",
       "    </tr>\n",
       "    <tr>\n",
       "      <th>1011</th>\n",
       "      <td>13802</td>\n",
       "      <td>75ps Chic 4-tur Klima+sihzg+pdc+hu7/26+alu+t</td>\n",
       "      <td>Manual</td>\n",
       "      <td>2019</td>\n",
       "      <td>28850</td>\n",
       "      <td>Petrol</td>\n",
       "      <td>Seat</td>\n",
       "      <td>Low-Range</td>\n",
       "    </tr>\n",
       "    <tr>\n",
       "      <th>...</th>\n",
       "      <td>...</td>\n",
       "      <td>...</td>\n",
       "      <td>...</td>\n",
       "      <td>...</td>\n",
       "      <td>...</td>\n",
       "      <td>...</td>\n",
       "      <td>...</td>\n",
       "      <td>...</td>\n",
       "    </tr>\n",
       "    <tr>\n",
       "      <th>8896</th>\n",
       "      <td>26197</td>\n",
       "      <td>Fr 1.5 Tsi Opf*automatik*ruckfahrkamera...</td>\n",
       "      <td>Automatic</td>\n",
       "      <td>2024</td>\n",
       "      <td>16400</td>\n",
       "      <td>Petrol</td>\n",
       "      <td>Seat</td>\n",
       "      <td>Low-Range</td>\n",
       "    </tr>\n",
       "    <tr>\n",
       "      <th>8897</th>\n",
       "      <td>19071</td>\n",
       "      <td>1.0 Tsi Fr Digital-tacho R.kamera Keyless</td>\n",
       "      <td>Manual</td>\n",
       "      <td>2019</td>\n",
       "      <td>57000</td>\n",
       "      <td>Petrol</td>\n",
       "      <td>Seat</td>\n",
       "      <td>Low-Range</td>\n",
       "    </tr>\n",
       "    <tr>\n",
       "      <th>8898</th>\n",
       "      <td>24547</td>\n",
       "      <td>Style 1.0 Tsi Dsg Lm Led W-paket Navi</td>\n",
       "      <td>Automatic</td>\n",
       "      <td>2024</td>\n",
       "      <td>9986</td>\n",
       "      <td>Petrol</td>\n",
       "      <td>Seat</td>\n",
       "      <td>Low-Range</td>\n",
       "    </tr>\n",
       "    <tr>\n",
       "      <th>8899</th>\n",
       "      <td>27822</td>\n",
       "      <td>2.0 Tdi **ahk*xenon*acc*shz*pdc*bt**</td>\n",
       "      <td>Manual</td>\n",
       "      <td>2019</td>\n",
       "      <td>100000</td>\n",
       "      <td>Diesel</td>\n",
       "      <td>Seat</td>\n",
       "      <td>Low-Range</td>\n",
       "    </tr>\n",
       "    <tr>\n",
       "      <th>8900</th>\n",
       "      <td>24982</td>\n",
       "      <td>Fr-line / 7 Sitze / R-kamera / Ahk /18\"</td>\n",
       "      <td>Manual</td>\n",
       "      <td>2017</td>\n",
       "      <td>124000</td>\n",
       "      <td>Diesel</td>\n",
       "      <td>Seat</td>\n",
       "      <td>Low-Range</td>\n",
       "    </tr>\n",
       "  </tbody>\n",
       "</table>\n",
       "<p>153 rows × 8 columns</p>\n",
       "</div>"
      ],
      "text/plain": [
       "      price                                   description transmission  model  \\\n",
       "0     26118     Sportstourer 1.4 E-hybrid Fr Led Acc Navi    Automatic   2021   \n",
       "1008  43768      Fr 2.0 Tdi 150 Dsg Nav Shz Kessy Ehk ...    Automatic   2024   \n",
       "1009  19904   St \"fr\"_climatr_sitzh_led_sw_abstandstemp..       Manual   2019   \n",
       "1010  36682      Style 1.5 Tsi 150 Dsg Led Nav Kam Pdc...    Automatic   2024   \n",
       "1011  13802  75ps Chic 4-tur Klima+sihzg+pdc+hu7/26+alu+t       Manual   2019   \n",
       "...     ...                                           ...          ...    ...   \n",
       "8896  26197    Fr 1.5 Tsi Opf*automatik*ruckfahrkamera...    Automatic   2024   \n",
       "8897  19071     1.0 Tsi Fr Digital-tacho R.kamera Keyless       Manual   2019   \n",
       "8898  24547         Style 1.0 Tsi Dsg Lm Led W-paket Navi    Automatic   2024   \n",
       "8899  27822          2.0 Tdi **ahk*xenon*acc*shz*pdc*bt**       Manual   2019   \n",
       "8900  24982       Fr-line / 7 Sitze / R-kamera / Ahk /18\"       Manual   2017   \n",
       "\n",
       "      milage    fuel Brand    Segment  \n",
       "0      52080  Hybrid  Seat  Low-Range  \n",
       "1008      10  Diesel  Seat  Low-Range  \n",
       "1009   42500  Petrol  Seat  Low-Range  \n",
       "1010      10  Petrol  Seat  Low-Range  \n",
       "1011   28850  Petrol  Seat  Low-Range  \n",
       "...      ...     ...   ...        ...  \n",
       "8896   16400  Petrol  Seat  Low-Range  \n",
       "8897   57000  Petrol  Seat  Low-Range  \n",
       "8898    9986  Petrol  Seat  Low-Range  \n",
       "8899  100000  Diesel  Seat  Low-Range  \n",
       "8900  124000  Diesel  Seat  Low-Range  \n",
       "\n",
       "[153 rows x 8 columns]"
      ]
     },
     "execution_count": 70,
     "metadata": {},
     "output_type": "execute_result"
    }
   ],
   "source": [
    "car.loc[(car[\"Brand\"]==\"Seat\")]\n",
    "# to locate where seat is in brand "
   ]
  },
  {
   "cell_type": "code",
   "execution_count": 71,
   "id": "f029a0ab-323f-47d8-a8ed-09357867c38f",
   "metadata": {},
   "outputs": [],
   "source": [
    "car=car.loc[(car[\"Brand\"]!=\"Seat\")]\n",
    "#to drop rows where brand is seat and also reassigning it back to column where brand is not seat"
   ]
  },
  {
   "cell_type": "code",
   "execution_count": 72,
   "id": "66cab581-acb3-41e1-85a9-fbe080eb5a4d",
   "metadata": {
    "scrolled": true
   },
   "outputs": [
    {
     "data": {
      "text/html": [
       "<div>\n",
       "<style scoped>\n",
       "    .dataframe tbody tr th:only-of-type {\n",
       "        vertical-align: middle;\n",
       "    }\n",
       "\n",
       "    .dataframe tbody tr th {\n",
       "        vertical-align: top;\n",
       "    }\n",
       "\n",
       "    .dataframe thead th {\n",
       "        text-align: right;\n",
       "    }\n",
       "</style>\n",
       "<table border=\"1\" class=\"dataframe\">\n",
       "  <thead>\n",
       "    <tr style=\"text-align: right;\">\n",
       "      <th></th>\n",
       "      <th>price</th>\n",
       "      <th>description</th>\n",
       "      <th>transmission</th>\n",
       "      <th>model</th>\n",
       "      <th>milage</th>\n",
       "      <th>fuel</th>\n",
       "      <th>Brand</th>\n",
       "      <th>Segment</th>\n",
       "    </tr>\n",
       "  </thead>\n",
       "  <tbody>\n",
       "    <tr>\n",
       "      <th>1</th>\n",
       "      <td>27777</td>\n",
       "      <td>T6 Awd Recharge Plug-in Momentum Pro Ahk</td>\n",
       "      <td>Automatic</td>\n",
       "      <td>2020</td>\n",
       "      <td>107217</td>\n",
       "      <td>Hybrid</td>\n",
       "      <td>Volvo</td>\n",
       "      <td>Premium</td>\n",
       "    </tr>\n",
       "    <tr>\n",
       "      <th>2</th>\n",
       "      <td>20392</td>\n",
       "      <td>2.0 Tdi Navi/sound/bmt,comfortline,1.hand</td>\n",
       "      <td>Manual</td>\n",
       "      <td>2017</td>\n",
       "      <td>123000</td>\n",
       "      <td>Diesel</td>\n",
       "      <td>Volkswagen</td>\n",
       "      <td>Premium</td>\n",
       "    </tr>\n",
       "    <tr>\n",
       "      <th>3</th>\n",
       "      <td>30967</td>\n",
       "      <td>2.0 Tdi Highline R-line 4mo. Led+navi+acc</td>\n",
       "      <td>Automatic</td>\n",
       "      <td>2019</td>\n",
       "      <td>68100</td>\n",
       "      <td>Diesel</td>\n",
       "      <td>Volkswagen</td>\n",
       "      <td>Premium</td>\n",
       "    </tr>\n",
       "    <tr>\n",
       "      <th>4</th>\n",
       "      <td>22892</td>\n",
       "      <td>Join Start-stopp 2hand Ahk Garantie</td>\n",
       "      <td>Manual</td>\n",
       "      <td>2018</td>\n",
       "      <td>105958</td>\n",
       "      <td>Diesel</td>\n",
       "      <td>Volkswagen</td>\n",
       "      <td>Premium</td>\n",
       "    </tr>\n",
       "    <tr>\n",
       "      <th>5</th>\n",
       "      <td>26760</td>\n",
       "      <td>2.0 Tdi/matrix/4motion/ambiente/200ps</td>\n",
       "      <td>Automatic</td>\n",
       "      <td>2021</td>\n",
       "      <td>127000</td>\n",
       "      <td>Diesel</td>\n",
       "      <td>Volkswagen</td>\n",
       "      <td>Premium</td>\n",
       "    </tr>\n",
       "    <tr>\n",
       "      <th>...</th>\n",
       "      <td>...</td>\n",
       "      <td>...</td>\n",
       "      <td>...</td>\n",
       "      <td>...</td>\n",
       "      <td>...</td>\n",
       "      <td>...</td>\n",
       "      <td>...</td>\n",
       "      <td>...</td>\n",
       "    </tr>\n",
       "    <tr>\n",
       "      <th>8965</th>\n",
       "      <td>95691</td>\n",
       "      <td>E-hybrid</td>\n",
       "      <td>Automatic</td>\n",
       "      <td>2022</td>\n",
       "      <td>14800</td>\n",
       "      <td>Hybrid</td>\n",
       "      <td>Porsche</td>\n",
       "      <td>Ultra-Luxury/Exotic</td>\n",
       "    </tr>\n",
       "    <tr>\n",
       "      <th>8966</th>\n",
       "      <td>47533</td>\n",
       "      <td>Diesel / Sportdesign / Voll / 1.hd.</td>\n",
       "      <td>Automatic</td>\n",
       "      <td>2016</td>\n",
       "      <td>99870</td>\n",
       "      <td>Diesel</td>\n",
       "      <td>Porsche</td>\n",
       "      <td>Ultra-Luxury/Exotic</td>\n",
       "    </tr>\n",
       "    <tr>\n",
       "      <th>8967</th>\n",
       "      <td>84648</td>\n",
       "      <td>Coupe E-hybrid*head-up*360°cam*panorama*</td>\n",
       "      <td>Automatic</td>\n",
       "      <td>2021</td>\n",
       "      <td>36500</td>\n",
       "      <td>Hybrid</td>\n",
       "      <td>Porsche</td>\n",
       "      <td>Ultra-Luxury/Exotic</td>\n",
       "    </tr>\n",
       "    <tr>\n",
       "      <th>8968</th>\n",
       "      <td>95657</td>\n",
       "      <td>Gts 4.0 2023 .6 Gang  1.hand,bose</td>\n",
       "      <td>Manual</td>\n",
       "      <td>2023</td>\n",
       "      <td>6500</td>\n",
       "      <td>Petrol</td>\n",
       "      <td>Porsche</td>\n",
       "      <td>Ultra-Luxury/Exotic</td>\n",
       "    </tr>\n",
       "    <tr>\n",
       "      <th>8969</th>\n",
       "      <td>94771</td>\n",
       "      <td>Gts Coupe*chrono*360°cam*acc*hud*voll*</td>\n",
       "      <td>Automatic</td>\n",
       "      <td>2020</td>\n",
       "      <td>65000</td>\n",
       "      <td>Petrol</td>\n",
       "      <td>Porsche</td>\n",
       "      <td>Ultra-Luxury/Exotic</td>\n",
       "    </tr>\n",
       "  </tbody>\n",
       "</table>\n",
       "<p>7784 rows × 8 columns</p>\n",
       "</div>"
      ],
      "text/plain": [
       "      price                                description transmission  model  \\\n",
       "1     27777   T6 Awd Recharge Plug-in Momentum Pro Ahk    Automatic   2020   \n",
       "2     20392  2.0 Tdi Navi/sound/bmt,comfortline,1.hand       Manual   2017   \n",
       "3     30967  2.0 Tdi Highline R-line 4mo. Led+navi+acc    Automatic   2019   \n",
       "4     22892        Join Start-stopp 2hand Ahk Garantie       Manual   2018   \n",
       "5     26760      2.0 Tdi/matrix/4motion/ambiente/200ps    Automatic   2021   \n",
       "...     ...                                        ...          ...    ...   \n",
       "8965  95691                                   E-hybrid    Automatic   2022   \n",
       "8966  47533        Diesel / Sportdesign / Voll / 1.hd.    Automatic   2016   \n",
       "8967  84648   Coupe E-hybrid*head-up*360°cam*panorama*    Automatic   2021   \n",
       "8968  95657          Gts 4.0 2023 .6 Gang  1.hand,bose       Manual   2023   \n",
       "8969  94771     Gts Coupe*chrono*360°cam*acc*hud*voll*    Automatic   2020   \n",
       "\n",
       "      milage    fuel       Brand              Segment  \n",
       "1     107217  Hybrid       Volvo              Premium  \n",
       "2     123000  Diesel  Volkswagen              Premium  \n",
       "3      68100  Diesel  Volkswagen              Premium  \n",
       "4     105958  Diesel  Volkswagen              Premium  \n",
       "5     127000  Diesel  Volkswagen              Premium  \n",
       "...      ...     ...         ...                  ...  \n",
       "8965   14800  Hybrid     Porsche  Ultra-Luxury/Exotic  \n",
       "8966   99870  Diesel     Porsche  Ultra-Luxury/Exotic  \n",
       "8967   36500  Hybrid     Porsche  Ultra-Luxury/Exotic  \n",
       "8968    6500  Petrol     Porsche  Ultra-Luxury/Exotic  \n",
       "8969   65000  Petrol     Porsche  Ultra-Luxury/Exotic  \n",
       "\n",
       "[7784 rows x 8 columns]"
      ]
     },
     "execution_count": 72,
     "metadata": {},
     "output_type": "execute_result"
    }
   ],
   "source": [
    "car"
   ]
  },
  {
   "cell_type": "markdown",
   "id": "0464485d-ec7d-436a-bcf8-c608623140f8",
   "metadata": {},
   "source": [
    "# QUESTION 6"
   ]
  },
  {
   "cell_type": "code",
   "execution_count": 73,
   "id": "c2d4a76f-e27a-4370-adbc-5806fa189a2e",
   "metadata": {},
   "outputs": [
    {
     "data": {
      "text/html": [
       "<div>\n",
       "<style scoped>\n",
       "    .dataframe tbody tr th:only-of-type {\n",
       "        vertical-align: middle;\n",
       "    }\n",
       "\n",
       "    .dataframe tbody tr th {\n",
       "        vertical-align: top;\n",
       "    }\n",
       "\n",
       "    .dataframe thead th {\n",
       "        text-align: right;\n",
       "    }\n",
       "</style>\n",
       "<table border=\"1\" class=\"dataframe\">\n",
       "  <thead>\n",
       "    <tr style=\"text-align: right;\">\n",
       "      <th></th>\n",
       "      <th>price</th>\n",
       "    </tr>\n",
       "    <tr>\n",
       "      <th>Brand</th>\n",
       "      <th></th>\n",
       "    </tr>\n",
       "  </thead>\n",
       "  <tbody>\n",
       "    <tr>\n",
       "      <th>Volkswagen</th>\n",
       "      <td>23547924</td>\n",
       "    </tr>\n",
       "  </tbody>\n",
       "</table>\n",
       "</div>"
      ],
      "text/plain": [
       "               price\n",
       "Brand               \n",
       "Volkswagen  23547924"
      ]
     },
     "execution_count": 73,
     "metadata": {},
     "output_type": "execute_result"
    }
   ],
   "source": [
    "car.loc[car[\"model\"]==2024].groupby(\"Brand\")[[\"price\"]].sum().sort_values(\"price\",ascending=False).head(1)\n",
    "#brand with highest total price 2024"
   ]
  },
  {
   "cell_type": "markdown",
   "id": "b844b45e-6c3d-4866-bb41-767a6a51a1b4",
   "metadata": {},
   "source": [
    "# QUESTION 7"
   ]
  },
  {
   "cell_type": "code",
   "execution_count": 74,
   "id": "bc71bf65-739e-4cf4-907f-f77facc708ed",
   "metadata": {},
   "outputs": [
    {
     "data": {
      "text/plain": [
       "array(['Volvo', 'Volkswagen', 'Toyota', 'Renault', 'Porsche', 'Peugeot',\n",
       "       'Mini', 'Mercedes-benz', 'Hyundai', 'Fiat', 'Dacia', 'Citroen',\n",
       "       'Bmw', 'Audi', 'Nissan', 'Land', 'Suzuki', 'Smart', 'Tesla',\n",
       "       'Skoda', 'Ssangyong', 'Opel', 'Mitsubishi', 'Mazda', 'Maserati',\n",
       "       'Lotus', 'Lexus', 'Lamborghini', 'Kia', 'Jeep', 'Jaguar', 'Honda',\n",
       "       'Ford', 'Ferrari', 'Ds', 'Dodge', 'Cupra', 'Chevrolet', 'Cadillac',\n",
       "       'Bentley', 'Aston', 'Alpina', 'Alfa', 'Abarth', 'Rolls-royce',\n",
       "       'Polestar', 'Morgan', 'Mg', 'Subaru', 'Mclaren', 'Lynk'],\n",
       "      dtype=object)"
      ]
     },
     "execution_count": 74,
     "metadata": {},
     "output_type": "execute_result"
    }
   ],
   "source": [
    "car[\"Brand\"].unique()\n",
    "# the unique brand of different cars"
   ]
  },
  {
   "cell_type": "markdown",
   "id": "23e81df8-db07-4669-ad7d-841abce669aa",
   "metadata": {},
   "source": [
    "# QUESTION 8"
   ]
  },
  {
   "cell_type": "code",
   "execution_count": 75,
   "id": "bfcc5b29-815f-42c7-be36-6a8f32a44aae",
   "metadata": {},
   "outputs": [
    {
     "data": {
      "text/html": [
       "<div>\n",
       "<style scoped>\n",
       "    .dataframe tbody tr th:only-of-type {\n",
       "        vertical-align: middle;\n",
       "    }\n",
       "\n",
       "    .dataframe tbody tr th {\n",
       "        vertical-align: top;\n",
       "    }\n",
       "\n",
       "    .dataframe thead th {\n",
       "        text-align: right;\n",
       "    }\n",
       "</style>\n",
       "<table border=\"1\" class=\"dataframe\">\n",
       "  <thead>\n",
       "    <tr style=\"text-align: right;\">\n",
       "      <th></th>\n",
       "      <th>price</th>\n",
       "    </tr>\n",
       "    <tr>\n",
       "      <th>Brand</th>\n",
       "      <th></th>\n",
       "    </tr>\n",
       "  </thead>\n",
       "  <tbody>\n",
       "    <tr>\n",
       "      <th>Volkswagen</th>\n",
       "      <td>54365163</td>\n",
       "    </tr>\n",
       "  </tbody>\n",
       "</table>\n",
       "</div>"
      ],
      "text/plain": [
       "               price\n",
       "Brand               \n",
       "Volkswagen  54365163"
      ]
     },
     "execution_count": 75,
     "metadata": {},
     "output_type": "execute_result"
    }
   ],
   "source": [
    "car.groupby(\"Brand\")[[\"price\"]].sum().sort_values(\"price\",ascending=False).head(1)\n",
    "# the total "
   ]
  },
  {
   "cell_type": "markdown",
   "id": "39411318-6cce-440f-81c1-66ac749717e9",
   "metadata": {},
   "source": [
    "# QUESTION 9"
   ]
  },
  {
   "cell_type": "code",
   "execution_count": 76,
   "id": "5ee89ea3-7fb2-4a15-a106-f76c313125e1",
   "metadata": {},
   "outputs": [
    {
     "data": {
      "text/plain": [
       "150000"
      ]
     },
     "execution_count": 76,
     "metadata": {},
     "output_type": "execute_result"
    }
   ],
   "source": [
    "car[\"milage\"].max()"
   ]
  },
  {
   "cell_type": "code",
   "execution_count": 77,
   "id": "becb53d1-374d-401f-825a-9697a86bdff7",
   "metadata": {},
   "outputs": [
    {
     "data": {
      "text/plain": [
       "0"
      ]
     },
     "execution_count": 77,
     "metadata": {},
     "output_type": "execute_result"
    }
   ],
   "source": [
    "car[\"milage\"].min()"
   ]
  },
  {
   "cell_type": "code",
   "execution_count": 78,
   "id": "a61bee42-1f30-4d01-9e70-ea9d31c2a981",
   "metadata": {},
   "outputs": [],
   "source": [
    "def milage_class(x):\n",
    "    if x <= 5000:\n",
    "        return '0-5k'\n",
    "    elif 5000  < x <=20000:\n",
    "        return '5k-20k'\n",
    "    elif 20000 < x <=50000:\n",
    "        return '20k-50k'\n",
    "    elif 50000 < x <=100000:\n",
    "        return '50k-100k'\n",
    "    elif 100000 < x <=150000:\n",
    "        return '100k-150k'\n",
    "    else:\n",
    "        return 'Above 150k'\n",
    "        # assign milage class based on range"
   ]
  },
  {
   "cell_type": "code",
   "execution_count": 79,
   "id": "4641daf3-ea2e-4f6d-bc9c-96a94280a6e3",
   "metadata": {},
   "outputs": [
    {
     "data": {
      "text/plain": [
       "1       100k-150k\n",
       "2       100k-150k\n",
       "3        50k-100k\n",
       "4       100k-150k\n",
       "5       100k-150k\n",
       "          ...    \n",
       "8965       5k-20k\n",
       "8966     50k-100k\n",
       "8967      20k-50k\n",
       "8968       5k-20k\n",
       "8969     50k-100k\n",
       "Name: milage, Length: 7784, dtype: object"
      ]
     },
     "execution_count": 79,
     "metadata": {},
     "output_type": "execute_result"
    }
   ],
   "source": [
    "car[\"milage\"].apply(milage_class)\n",
    "# Apply the milage classification to milage column assign to a milage class"
   ]
  },
  {
   "cell_type": "code",
   "execution_count": 80,
   "id": "8e717929-e857-4dcb-a9fb-c58bafdfc2f0",
   "metadata": {},
   "outputs": [],
   "source": [
    "car.insert(5,\"milage class\",car[\"milage\"].apply(milage_class))\n",
    "# adding the milage class after milage"
   ]
  },
  {
   "cell_type": "code",
   "execution_count": 81,
   "id": "a63e4ff7-45aa-46b8-9cf9-074d7e983cbc",
   "metadata": {},
   "outputs": [
    {
     "data": {
      "text/html": [
       "<div>\n",
       "<style scoped>\n",
       "    .dataframe tbody tr th:only-of-type {\n",
       "        vertical-align: middle;\n",
       "    }\n",
       "\n",
       "    .dataframe tbody tr th {\n",
       "        vertical-align: top;\n",
       "    }\n",
       "\n",
       "    .dataframe thead th {\n",
       "        text-align: right;\n",
       "    }\n",
       "</style>\n",
       "<table border=\"1\" class=\"dataframe\">\n",
       "  <thead>\n",
       "    <tr style=\"text-align: right;\">\n",
       "      <th></th>\n",
       "      <th>price</th>\n",
       "      <th>description</th>\n",
       "      <th>transmission</th>\n",
       "      <th>model</th>\n",
       "      <th>milage</th>\n",
       "      <th>milage class</th>\n",
       "      <th>fuel</th>\n",
       "      <th>Brand</th>\n",
       "      <th>Segment</th>\n",
       "    </tr>\n",
       "  </thead>\n",
       "  <tbody>\n",
       "    <tr>\n",
       "      <th>1</th>\n",
       "      <td>27777</td>\n",
       "      <td>T6 Awd Recharge Plug-in Momentum Pro Ahk</td>\n",
       "      <td>Automatic</td>\n",
       "      <td>2020</td>\n",
       "      <td>107217</td>\n",
       "      <td>100k-150k</td>\n",
       "      <td>Hybrid</td>\n",
       "      <td>Volvo</td>\n",
       "      <td>Premium</td>\n",
       "    </tr>\n",
       "    <tr>\n",
       "      <th>2</th>\n",
       "      <td>20392</td>\n",
       "      <td>2.0 Tdi Navi/sound/bmt,comfortline,1.hand</td>\n",
       "      <td>Manual</td>\n",
       "      <td>2017</td>\n",
       "      <td>123000</td>\n",
       "      <td>100k-150k</td>\n",
       "      <td>Diesel</td>\n",
       "      <td>Volkswagen</td>\n",
       "      <td>Premium</td>\n",
       "    </tr>\n",
       "    <tr>\n",
       "      <th>3</th>\n",
       "      <td>30967</td>\n",
       "      <td>2.0 Tdi Highline R-line 4mo. Led+navi+acc</td>\n",
       "      <td>Automatic</td>\n",
       "      <td>2019</td>\n",
       "      <td>68100</td>\n",
       "      <td>50k-100k</td>\n",
       "      <td>Diesel</td>\n",
       "      <td>Volkswagen</td>\n",
       "      <td>Premium</td>\n",
       "    </tr>\n",
       "    <tr>\n",
       "      <th>4</th>\n",
       "      <td>22892</td>\n",
       "      <td>Join Start-stopp 2hand Ahk Garantie</td>\n",
       "      <td>Manual</td>\n",
       "      <td>2018</td>\n",
       "      <td>105958</td>\n",
       "      <td>100k-150k</td>\n",
       "      <td>Diesel</td>\n",
       "      <td>Volkswagen</td>\n",
       "      <td>Premium</td>\n",
       "    </tr>\n",
       "    <tr>\n",
       "      <th>5</th>\n",
       "      <td>26760</td>\n",
       "      <td>2.0 Tdi/matrix/4motion/ambiente/200ps</td>\n",
       "      <td>Automatic</td>\n",
       "      <td>2021</td>\n",
       "      <td>127000</td>\n",
       "      <td>100k-150k</td>\n",
       "      <td>Diesel</td>\n",
       "      <td>Volkswagen</td>\n",
       "      <td>Premium</td>\n",
       "    </tr>\n",
       "    <tr>\n",
       "      <th>...</th>\n",
       "      <td>...</td>\n",
       "      <td>...</td>\n",
       "      <td>...</td>\n",
       "      <td>...</td>\n",
       "      <td>...</td>\n",
       "      <td>...</td>\n",
       "      <td>...</td>\n",
       "      <td>...</td>\n",
       "      <td>...</td>\n",
       "    </tr>\n",
       "    <tr>\n",
       "      <th>8965</th>\n",
       "      <td>95691</td>\n",
       "      <td>E-hybrid</td>\n",
       "      <td>Automatic</td>\n",
       "      <td>2022</td>\n",
       "      <td>14800</td>\n",
       "      <td>5k-20k</td>\n",
       "      <td>Hybrid</td>\n",
       "      <td>Porsche</td>\n",
       "      <td>Ultra-Luxury/Exotic</td>\n",
       "    </tr>\n",
       "    <tr>\n",
       "      <th>8966</th>\n",
       "      <td>47533</td>\n",
       "      <td>Diesel / Sportdesign / Voll / 1.hd.</td>\n",
       "      <td>Automatic</td>\n",
       "      <td>2016</td>\n",
       "      <td>99870</td>\n",
       "      <td>50k-100k</td>\n",
       "      <td>Diesel</td>\n",
       "      <td>Porsche</td>\n",
       "      <td>Ultra-Luxury/Exotic</td>\n",
       "    </tr>\n",
       "    <tr>\n",
       "      <th>8967</th>\n",
       "      <td>84648</td>\n",
       "      <td>Coupe E-hybrid*head-up*360°cam*panorama*</td>\n",
       "      <td>Automatic</td>\n",
       "      <td>2021</td>\n",
       "      <td>36500</td>\n",
       "      <td>20k-50k</td>\n",
       "      <td>Hybrid</td>\n",
       "      <td>Porsche</td>\n",
       "      <td>Ultra-Luxury/Exotic</td>\n",
       "    </tr>\n",
       "    <tr>\n",
       "      <th>8968</th>\n",
       "      <td>95657</td>\n",
       "      <td>Gts 4.0 2023 .6 Gang  1.hand,bose</td>\n",
       "      <td>Manual</td>\n",
       "      <td>2023</td>\n",
       "      <td>6500</td>\n",
       "      <td>5k-20k</td>\n",
       "      <td>Petrol</td>\n",
       "      <td>Porsche</td>\n",
       "      <td>Ultra-Luxury/Exotic</td>\n",
       "    </tr>\n",
       "    <tr>\n",
       "      <th>8969</th>\n",
       "      <td>94771</td>\n",
       "      <td>Gts Coupe*chrono*360°cam*acc*hud*voll*</td>\n",
       "      <td>Automatic</td>\n",
       "      <td>2020</td>\n",
       "      <td>65000</td>\n",
       "      <td>50k-100k</td>\n",
       "      <td>Petrol</td>\n",
       "      <td>Porsche</td>\n",
       "      <td>Ultra-Luxury/Exotic</td>\n",
       "    </tr>\n",
       "  </tbody>\n",
       "</table>\n",
       "<p>7784 rows × 9 columns</p>\n",
       "</div>"
      ],
      "text/plain": [
       "      price                                description transmission  model  \\\n",
       "1     27777   T6 Awd Recharge Plug-in Momentum Pro Ahk    Automatic   2020   \n",
       "2     20392  2.0 Tdi Navi/sound/bmt,comfortline,1.hand       Manual   2017   \n",
       "3     30967  2.0 Tdi Highline R-line 4mo. Led+navi+acc    Automatic   2019   \n",
       "4     22892        Join Start-stopp 2hand Ahk Garantie       Manual   2018   \n",
       "5     26760      2.0 Tdi/matrix/4motion/ambiente/200ps    Automatic   2021   \n",
       "...     ...                                        ...          ...    ...   \n",
       "8965  95691                                   E-hybrid    Automatic   2022   \n",
       "8966  47533        Diesel / Sportdesign / Voll / 1.hd.    Automatic   2016   \n",
       "8967  84648   Coupe E-hybrid*head-up*360°cam*panorama*    Automatic   2021   \n",
       "8968  95657          Gts 4.0 2023 .6 Gang  1.hand,bose       Manual   2023   \n",
       "8969  94771     Gts Coupe*chrono*360°cam*acc*hud*voll*    Automatic   2020   \n",
       "\n",
       "      milage milage class    fuel       Brand              Segment  \n",
       "1     107217    100k-150k  Hybrid       Volvo              Premium  \n",
       "2     123000    100k-150k  Diesel  Volkswagen              Premium  \n",
       "3      68100     50k-100k  Diesel  Volkswagen              Premium  \n",
       "4     105958    100k-150k  Diesel  Volkswagen              Premium  \n",
       "5     127000    100k-150k  Diesel  Volkswagen              Premium  \n",
       "...      ...          ...     ...         ...                  ...  \n",
       "8965   14800       5k-20k  Hybrid     Porsche  Ultra-Luxury/Exotic  \n",
       "8966   99870     50k-100k  Diesel     Porsche  Ultra-Luxury/Exotic  \n",
       "8967   36500      20k-50k  Hybrid     Porsche  Ultra-Luxury/Exotic  \n",
       "8968    6500       5k-20k  Petrol     Porsche  Ultra-Luxury/Exotic  \n",
       "8969   65000     50k-100k  Petrol     Porsche  Ultra-Luxury/Exotic  \n",
       "\n",
       "[7784 rows x 9 columns]"
      ]
     },
     "execution_count": 81,
     "metadata": {},
     "output_type": "execute_result"
    }
   ],
   "source": [
    "car"
   ]
  },
  {
   "cell_type": "code",
   "execution_count": 82,
   "id": "45e472e0-526d-423f-8f0c-8f19b44eca54",
   "metadata": {},
   "outputs": [
    {
     "data": {
      "text/html": [
       "<div>\n",
       "<style scoped>\n",
       "    .dataframe tbody tr th:only-of-type {\n",
       "        vertical-align: middle;\n",
       "    }\n",
       "\n",
       "    .dataframe tbody tr th {\n",
       "        vertical-align: top;\n",
       "    }\n",
       "\n",
       "    .dataframe thead th {\n",
       "        text-align: right;\n",
       "    }\n",
       "</style>\n",
       "<table border=\"1\" class=\"dataframe\">\n",
       "  <thead>\n",
       "    <tr style=\"text-align: right;\">\n",
       "      <th></th>\n",
       "      <th>milage class</th>\n",
       "      <th>price</th>\n",
       "      <th>description</th>\n",
       "      <th>transmission</th>\n",
       "      <th>model</th>\n",
       "      <th>milage</th>\n",
       "      <th>fuel</th>\n",
       "      <th>Brand</th>\n",
       "      <th>Segment</th>\n",
       "    </tr>\n",
       "  </thead>\n",
       "  <tbody>\n",
       "    <tr>\n",
       "      <th>0</th>\n",
       "      <td>0-5k</td>\n",
       "      <td>1707</td>\n",
       "      <td>1707</td>\n",
       "      <td>1707</td>\n",
       "      <td>1707</td>\n",
       "      <td>1707</td>\n",
       "      <td>1707</td>\n",
       "      <td>1707</td>\n",
       "      <td>1707</td>\n",
       "    </tr>\n",
       "    <tr>\n",
       "      <th>1</th>\n",
       "      <td>100k-150k</td>\n",
       "      <td>980</td>\n",
       "      <td>980</td>\n",
       "      <td>980</td>\n",
       "      <td>980</td>\n",
       "      <td>980</td>\n",
       "      <td>980</td>\n",
       "      <td>980</td>\n",
       "      <td>980</td>\n",
       "    </tr>\n",
       "    <tr>\n",
       "      <th>2</th>\n",
       "      <td>20k-50k</td>\n",
       "      <td>1749</td>\n",
       "      <td>1749</td>\n",
       "      <td>1749</td>\n",
       "      <td>1749</td>\n",
       "      <td>1749</td>\n",
       "      <td>1749</td>\n",
       "      <td>1749</td>\n",
       "      <td>1749</td>\n",
       "    </tr>\n",
       "    <tr>\n",
       "      <th>3</th>\n",
       "      <td>50k-100k</td>\n",
       "      <td>1923</td>\n",
       "      <td>1923</td>\n",
       "      <td>1923</td>\n",
       "      <td>1923</td>\n",
       "      <td>1923</td>\n",
       "      <td>1923</td>\n",
       "      <td>1923</td>\n",
       "      <td>1923</td>\n",
       "    </tr>\n",
       "    <tr>\n",
       "      <th>4</th>\n",
       "      <td>5k-20k</td>\n",
       "      <td>1425</td>\n",
       "      <td>1425</td>\n",
       "      <td>1425</td>\n",
       "      <td>1425</td>\n",
       "      <td>1425</td>\n",
       "      <td>1425</td>\n",
       "      <td>1425</td>\n",
       "      <td>1425</td>\n",
       "    </tr>\n",
       "  </tbody>\n",
       "</table>\n",
       "</div>"
      ],
      "text/plain": [
       "  milage class  price  description  transmission  model  milage  fuel  Brand  \\\n",
       "0         0-5k   1707         1707          1707   1707    1707  1707   1707   \n",
       "1    100k-150k    980          980           980    980     980   980    980   \n",
       "2      20k-50k   1749         1749          1749   1749    1749  1749   1749   \n",
       "3     50k-100k   1923         1923          1923   1923    1923  1923   1923   \n",
       "4       5k-20k   1425         1425          1425   1425    1425  1425   1425   \n",
       "\n",
       "   Segment  \n",
       "0     1707  \n",
       "1      980  \n",
       "2     1749  \n",
       "3     1923  \n",
       "4     1425  "
      ]
     },
     "execution_count": 82,
     "metadata": {},
     "output_type": "execute_result"
    }
   ],
   "source": [
    "distribution=car.groupby(\"milage class\").count().reset_index()\n",
    "distribution"
   ]
  },
  {
   "cell_type": "code",
   "execution_count": 83,
   "id": "3789edb1-9c12-4208-aa73-c67e734fbf9c",
   "metadata": {},
   "outputs": [],
   "source": [
    "import plotly.express as px"
   ]
  },
  {
   "cell_type": "code",
   "execution_count": 84,
   "id": "9eb65787-143b-491e-9ccd-a2cadbf21149",
   "metadata": {},
   "outputs": [
    {
     "data": {
      "application/vnd.plotly.v1+json": {
       "config": {
        "plotlyServerURL": "https://plot.ly"
       },
       "data": [
        {
         "alignmentgroup": "True",
         "hovertemplate": "milage class=%{x}<br>Number of car=%{y}<extra></extra>",
         "legendgroup": "",
         "marker": {
          "color": "#636efa",
          "pattern": {
           "shape": ""
          }
         },
         "name": "",
         "offsetgroup": "",
         "orientation": "v",
         "showlegend": false,
         "textposition": "auto",
         "type": "bar",
         "x": [
          "0-5k",
          "100k-150k",
          "20k-50k",
          "50k-100k",
          "5k-20k"
         ],
         "xaxis": "x",
         "y": [
          1707,
          980,
          1749,
          1923,
          1425
         ],
         "yaxis": "y"
        }
       ],
       "layout": {
        "autosize": true,
        "barmode": "relative",
        "legend": {
         "tracegroupgap": 0
        },
        "template": {
         "data": {
          "bar": [
           {
            "error_x": {
             "color": "#2a3f5f"
            },
            "error_y": {
             "color": "#2a3f5f"
            },
            "marker": {
             "line": {
              "color": "#E5ECF6",
              "width": 0.5
             },
             "pattern": {
              "fillmode": "overlay",
              "size": 10,
              "solidity": 0.2
             }
            },
            "type": "bar"
           }
          ],
          "barpolar": [
           {
            "marker": {
             "line": {
              "color": "#E5ECF6",
              "width": 0.5
             },
             "pattern": {
              "fillmode": "overlay",
              "size": 10,
              "solidity": 0.2
             }
            },
            "type": "barpolar"
           }
          ],
          "carpet": [
           {
            "aaxis": {
             "endlinecolor": "#2a3f5f",
             "gridcolor": "white",
             "linecolor": "white",
             "minorgridcolor": "white",
             "startlinecolor": "#2a3f5f"
            },
            "baxis": {
             "endlinecolor": "#2a3f5f",
             "gridcolor": "white",
             "linecolor": "white",
             "minorgridcolor": "white",
             "startlinecolor": "#2a3f5f"
            },
            "type": "carpet"
           }
          ],
          "choropleth": [
           {
            "colorbar": {
             "outlinewidth": 0,
             "ticks": ""
            },
            "type": "choropleth"
           }
          ],
          "contour": [
           {
            "colorbar": {
             "outlinewidth": 0,
             "ticks": ""
            },
            "colorscale": [
             [
              0,
              "#0d0887"
             ],
             [
              0.1111111111111111,
              "#46039f"
             ],
             [
              0.2222222222222222,
              "#7201a8"
             ],
             [
              0.3333333333333333,
              "#9c179e"
             ],
             [
              0.4444444444444444,
              "#bd3786"
             ],
             [
              0.5555555555555556,
              "#d8576b"
             ],
             [
              0.6666666666666666,
              "#ed7953"
             ],
             [
              0.7777777777777778,
              "#fb9f3a"
             ],
             [
              0.8888888888888888,
              "#fdca26"
             ],
             [
              1,
              "#f0f921"
             ]
            ],
            "type": "contour"
           }
          ],
          "contourcarpet": [
           {
            "colorbar": {
             "outlinewidth": 0,
             "ticks": ""
            },
            "type": "contourcarpet"
           }
          ],
          "heatmap": [
           {
            "colorbar": {
             "outlinewidth": 0,
             "ticks": ""
            },
            "colorscale": [
             [
              0,
              "#0d0887"
             ],
             [
              0.1111111111111111,
              "#46039f"
             ],
             [
              0.2222222222222222,
              "#7201a8"
             ],
             [
              0.3333333333333333,
              "#9c179e"
             ],
             [
              0.4444444444444444,
              "#bd3786"
             ],
             [
              0.5555555555555556,
              "#d8576b"
             ],
             [
              0.6666666666666666,
              "#ed7953"
             ],
             [
              0.7777777777777778,
              "#fb9f3a"
             ],
             [
              0.8888888888888888,
              "#fdca26"
             ],
             [
              1,
              "#f0f921"
             ]
            ],
            "type": "heatmap"
           }
          ],
          "heatmapgl": [
           {
            "colorbar": {
             "outlinewidth": 0,
             "ticks": ""
            },
            "colorscale": [
             [
              0,
              "#0d0887"
             ],
             [
              0.1111111111111111,
              "#46039f"
             ],
             [
              0.2222222222222222,
              "#7201a8"
             ],
             [
              0.3333333333333333,
              "#9c179e"
             ],
             [
              0.4444444444444444,
              "#bd3786"
             ],
             [
              0.5555555555555556,
              "#d8576b"
             ],
             [
              0.6666666666666666,
              "#ed7953"
             ],
             [
              0.7777777777777778,
              "#fb9f3a"
             ],
             [
              0.8888888888888888,
              "#fdca26"
             ],
             [
              1,
              "#f0f921"
             ]
            ],
            "type": "heatmapgl"
           }
          ],
          "histogram": [
           {
            "marker": {
             "pattern": {
              "fillmode": "overlay",
              "size": 10,
              "solidity": 0.2
             }
            },
            "type": "histogram"
           }
          ],
          "histogram2d": [
           {
            "colorbar": {
             "outlinewidth": 0,
             "ticks": ""
            },
            "colorscale": [
             [
              0,
              "#0d0887"
             ],
             [
              0.1111111111111111,
              "#46039f"
             ],
             [
              0.2222222222222222,
              "#7201a8"
             ],
             [
              0.3333333333333333,
              "#9c179e"
             ],
             [
              0.4444444444444444,
              "#bd3786"
             ],
             [
              0.5555555555555556,
              "#d8576b"
             ],
             [
              0.6666666666666666,
              "#ed7953"
             ],
             [
              0.7777777777777778,
              "#fb9f3a"
             ],
             [
              0.8888888888888888,
              "#fdca26"
             ],
             [
              1,
              "#f0f921"
             ]
            ],
            "type": "histogram2d"
           }
          ],
          "histogram2dcontour": [
           {
            "colorbar": {
             "outlinewidth": 0,
             "ticks": ""
            },
            "colorscale": [
             [
              0,
              "#0d0887"
             ],
             [
              0.1111111111111111,
              "#46039f"
             ],
             [
              0.2222222222222222,
              "#7201a8"
             ],
             [
              0.3333333333333333,
              "#9c179e"
             ],
             [
              0.4444444444444444,
              "#bd3786"
             ],
             [
              0.5555555555555556,
              "#d8576b"
             ],
             [
              0.6666666666666666,
              "#ed7953"
             ],
             [
              0.7777777777777778,
              "#fb9f3a"
             ],
             [
              0.8888888888888888,
              "#fdca26"
             ],
             [
              1,
              "#f0f921"
             ]
            ],
            "type": "histogram2dcontour"
           }
          ],
          "mesh3d": [
           {
            "colorbar": {
             "outlinewidth": 0,
             "ticks": ""
            },
            "type": "mesh3d"
           }
          ],
          "parcoords": [
           {
            "line": {
             "colorbar": {
              "outlinewidth": 0,
              "ticks": ""
             }
            },
            "type": "parcoords"
           }
          ],
          "pie": [
           {
            "automargin": true,
            "type": "pie"
           }
          ],
          "scatter": [
           {
            "fillpattern": {
             "fillmode": "overlay",
             "size": 10,
             "solidity": 0.2
            },
            "type": "scatter"
           }
          ],
          "scatter3d": [
           {
            "line": {
             "colorbar": {
              "outlinewidth": 0,
              "ticks": ""
             }
            },
            "marker": {
             "colorbar": {
              "outlinewidth": 0,
              "ticks": ""
             }
            },
            "type": "scatter3d"
           }
          ],
          "scattercarpet": [
           {
            "marker": {
             "colorbar": {
              "outlinewidth": 0,
              "ticks": ""
             }
            },
            "type": "scattercarpet"
           }
          ],
          "scattergeo": [
           {
            "marker": {
             "colorbar": {
              "outlinewidth": 0,
              "ticks": ""
             }
            },
            "type": "scattergeo"
           }
          ],
          "scattergl": [
           {
            "marker": {
             "colorbar": {
              "outlinewidth": 0,
              "ticks": ""
             }
            },
            "type": "scattergl"
           }
          ],
          "scattermapbox": [
           {
            "marker": {
             "colorbar": {
              "outlinewidth": 0,
              "ticks": ""
             }
            },
            "type": "scattermapbox"
           }
          ],
          "scatterpolar": [
           {
            "marker": {
             "colorbar": {
              "outlinewidth": 0,
              "ticks": ""
             }
            },
            "type": "scatterpolar"
           }
          ],
          "scatterpolargl": [
           {
            "marker": {
             "colorbar": {
              "outlinewidth": 0,
              "ticks": ""
             }
            },
            "type": "scatterpolargl"
           }
          ],
          "scatterternary": [
           {
            "marker": {
             "colorbar": {
              "outlinewidth": 0,
              "ticks": ""
             }
            },
            "type": "scatterternary"
           }
          ],
          "surface": [
           {
            "colorbar": {
             "outlinewidth": 0,
             "ticks": ""
            },
            "colorscale": [
             [
              0,
              "#0d0887"
             ],
             [
              0.1111111111111111,
              "#46039f"
             ],
             [
              0.2222222222222222,
              "#7201a8"
             ],
             [
              0.3333333333333333,
              "#9c179e"
             ],
             [
              0.4444444444444444,
              "#bd3786"
             ],
             [
              0.5555555555555556,
              "#d8576b"
             ],
             [
              0.6666666666666666,
              "#ed7953"
             ],
             [
              0.7777777777777778,
              "#fb9f3a"
             ],
             [
              0.8888888888888888,
              "#fdca26"
             ],
             [
              1,
              "#f0f921"
             ]
            ],
            "type": "surface"
           }
          ],
          "table": [
           {
            "cells": {
             "fill": {
              "color": "#EBF0F8"
             },
             "line": {
              "color": "white"
             }
            },
            "header": {
             "fill": {
              "color": "#C8D4E3"
             },
             "line": {
              "color": "white"
             }
            },
            "type": "table"
           }
          ]
         },
         "layout": {
          "annotationdefaults": {
           "arrowcolor": "#2a3f5f",
           "arrowhead": 0,
           "arrowwidth": 1
          },
          "autotypenumbers": "strict",
          "coloraxis": {
           "colorbar": {
            "outlinewidth": 0,
            "ticks": ""
           }
          },
          "colorscale": {
           "diverging": [
            [
             0,
             "#8e0152"
            ],
            [
             0.1,
             "#c51b7d"
            ],
            [
             0.2,
             "#de77ae"
            ],
            [
             0.3,
             "#f1b6da"
            ],
            [
             0.4,
             "#fde0ef"
            ],
            [
             0.5,
             "#f7f7f7"
            ],
            [
             0.6,
             "#e6f5d0"
            ],
            [
             0.7,
             "#b8e186"
            ],
            [
             0.8,
             "#7fbc41"
            ],
            [
             0.9,
             "#4d9221"
            ],
            [
             1,
             "#276419"
            ]
           ],
           "sequential": [
            [
             0,
             "#0d0887"
            ],
            [
             0.1111111111111111,
             "#46039f"
            ],
            [
             0.2222222222222222,
             "#7201a8"
            ],
            [
             0.3333333333333333,
             "#9c179e"
            ],
            [
             0.4444444444444444,
             "#bd3786"
            ],
            [
             0.5555555555555556,
             "#d8576b"
            ],
            [
             0.6666666666666666,
             "#ed7953"
            ],
            [
             0.7777777777777778,
             "#fb9f3a"
            ],
            [
             0.8888888888888888,
             "#fdca26"
            ],
            [
             1,
             "#f0f921"
            ]
           ],
           "sequentialminus": [
            [
             0,
             "#0d0887"
            ],
            [
             0.1111111111111111,
             "#46039f"
            ],
            [
             0.2222222222222222,
             "#7201a8"
            ],
            [
             0.3333333333333333,
             "#9c179e"
            ],
            [
             0.4444444444444444,
             "#bd3786"
            ],
            [
             0.5555555555555556,
             "#d8576b"
            ],
            [
             0.6666666666666666,
             "#ed7953"
            ],
            [
             0.7777777777777778,
             "#fb9f3a"
            ],
            [
             0.8888888888888888,
             "#fdca26"
            ],
            [
             1,
             "#f0f921"
            ]
           ]
          },
          "colorway": [
           "#636efa",
           "#EF553B",
           "#00cc96",
           "#ab63fa",
           "#FFA15A",
           "#19d3f3",
           "#FF6692",
           "#B6E880",
           "#FF97FF",
           "#FECB52"
          ],
          "font": {
           "color": "#2a3f5f"
          },
          "geo": {
           "bgcolor": "white",
           "lakecolor": "white",
           "landcolor": "#E5ECF6",
           "showlakes": true,
           "showland": true,
           "subunitcolor": "white"
          },
          "hoverlabel": {
           "align": "left"
          },
          "hovermode": "closest",
          "mapbox": {
           "style": "light"
          },
          "paper_bgcolor": "white",
          "plot_bgcolor": "#E5ECF6",
          "polar": {
           "angularaxis": {
            "gridcolor": "white",
            "linecolor": "white",
            "ticks": ""
           },
           "bgcolor": "#E5ECF6",
           "radialaxis": {
            "gridcolor": "white",
            "linecolor": "white",
            "ticks": ""
           }
          },
          "scene": {
           "xaxis": {
            "backgroundcolor": "#E5ECF6",
            "gridcolor": "white",
            "gridwidth": 2,
            "linecolor": "white",
            "showbackground": true,
            "ticks": "",
            "zerolinecolor": "white"
           },
           "yaxis": {
            "backgroundcolor": "#E5ECF6",
            "gridcolor": "white",
            "gridwidth": 2,
            "linecolor": "white",
            "showbackground": true,
            "ticks": "",
            "zerolinecolor": "white"
           },
           "zaxis": {
            "backgroundcolor": "#E5ECF6",
            "gridcolor": "white",
            "gridwidth": 2,
            "linecolor": "white",
            "showbackground": true,
            "ticks": "",
            "zerolinecolor": "white"
           }
          },
          "shapedefaults": {
           "line": {
            "color": "#2a3f5f"
           }
          },
          "ternary": {
           "aaxis": {
            "gridcolor": "white",
            "linecolor": "white",
            "ticks": ""
           },
           "baxis": {
            "gridcolor": "white",
            "linecolor": "white",
            "ticks": ""
           },
           "bgcolor": "#E5ECF6",
           "caxis": {
            "gridcolor": "white",
            "linecolor": "white",
            "ticks": ""
           }
          },
          "title": {
           "x": 0.05
          },
          "xaxis": {
           "automargin": true,
           "gridcolor": "white",
           "linecolor": "white",
           "ticks": "",
           "title": {
            "standoff": 15
           },
           "zerolinecolor": "white",
           "zerolinewidth": 2
          },
          "yaxis": {
           "automargin": true,
           "gridcolor": "white",
           "linecolor": "white",
           "ticks": "",
           "title": {
            "standoff": 15
           },
           "zerolinecolor": "white",
           "zerolinewidth": 2
          }
         }
        },
        "title": {
         "text": "Car Mileage Distribution"
        },
        "xaxis": {
         "anchor": "y",
         "autorange": true,
         "domain": [
          0,
          1
         ],
         "range": [
          -0.5,
          4.5
         ],
         "title": {
          "text": "milage class"
         },
         "type": "category"
        },
        "yaxis": {
         "anchor": "x",
         "autorange": true,
         "domain": [
          0,
          1
         ],
         "range": [
          0,
          2024.2105263157896
         ],
         "title": {
          "text": "Number of car"
         },
         "type": "linear"
        }
       }
      },
      "text/html": [
       "<div>                            <div id=\"306273ea-af76-416a-9be2-c99e7f8d8da1\" class=\"plotly-graph-div\" style=\"height:525px; width:100%;\"></div>            <script type=\"text/javascript\">                require([\"plotly\"], function(Plotly) {                    window.PLOTLYENV=window.PLOTLYENV || {};                                    if (document.getElementById(\"306273ea-af76-416a-9be2-c99e7f8d8da1\")) {                    Plotly.newPlot(                        \"306273ea-af76-416a-9be2-c99e7f8d8da1\",                        [{\"alignmentgroup\":\"True\",\"hovertemplate\":\"milage class=%{x}\\u003cbr\\u003eNumber of car=%{y}\\u003cextra\\u003e\\u003c\\u002fextra\\u003e\",\"legendgroup\":\"\",\"marker\":{\"color\":\"#636efa\",\"pattern\":{\"shape\":\"\"}},\"name\":\"\",\"offsetgroup\":\"\",\"orientation\":\"v\",\"showlegend\":false,\"textposition\":\"auto\",\"x\":[\"0-5k\",\"100k-150k\",\"20k-50k\",\"50k-100k\",\"5k-20k\"],\"xaxis\":\"x\",\"y\":[1707,980,1749,1923,1425],\"yaxis\":\"y\",\"type\":\"bar\"}],                        {\"template\":{\"data\":{\"histogram2dcontour\":[{\"type\":\"histogram2dcontour\",\"colorbar\":{\"outlinewidth\":0,\"ticks\":\"\"},\"colorscale\":[[0.0,\"#0d0887\"],[0.1111111111111111,\"#46039f\"],[0.2222222222222222,\"#7201a8\"],[0.3333333333333333,\"#9c179e\"],[0.4444444444444444,\"#bd3786\"],[0.5555555555555556,\"#d8576b\"],[0.6666666666666666,\"#ed7953\"],[0.7777777777777778,\"#fb9f3a\"],[0.8888888888888888,\"#fdca26\"],[1.0,\"#f0f921\"]]}],\"choropleth\":[{\"type\":\"choropleth\",\"colorbar\":{\"outlinewidth\":0,\"ticks\":\"\"}}],\"histogram2d\":[{\"type\":\"histogram2d\",\"colorbar\":{\"outlinewidth\":0,\"ticks\":\"\"},\"colorscale\":[[0.0,\"#0d0887\"],[0.1111111111111111,\"#46039f\"],[0.2222222222222222,\"#7201a8\"],[0.3333333333333333,\"#9c179e\"],[0.4444444444444444,\"#bd3786\"],[0.5555555555555556,\"#d8576b\"],[0.6666666666666666,\"#ed7953\"],[0.7777777777777778,\"#fb9f3a\"],[0.8888888888888888,\"#fdca26\"],[1.0,\"#f0f921\"]]}],\"heatmap\":[{\"type\":\"heatmap\",\"colorbar\":{\"outlinewidth\":0,\"ticks\":\"\"},\"colorscale\":[[0.0,\"#0d0887\"],[0.1111111111111111,\"#46039f\"],[0.2222222222222222,\"#7201a8\"],[0.3333333333333333,\"#9c179e\"],[0.4444444444444444,\"#bd3786\"],[0.5555555555555556,\"#d8576b\"],[0.6666666666666666,\"#ed7953\"],[0.7777777777777778,\"#fb9f3a\"],[0.8888888888888888,\"#fdca26\"],[1.0,\"#f0f921\"]]}],\"heatmapgl\":[{\"type\":\"heatmapgl\",\"colorbar\":{\"outlinewidth\":0,\"ticks\":\"\"},\"colorscale\":[[0.0,\"#0d0887\"],[0.1111111111111111,\"#46039f\"],[0.2222222222222222,\"#7201a8\"],[0.3333333333333333,\"#9c179e\"],[0.4444444444444444,\"#bd3786\"],[0.5555555555555556,\"#d8576b\"],[0.6666666666666666,\"#ed7953\"],[0.7777777777777778,\"#fb9f3a\"],[0.8888888888888888,\"#fdca26\"],[1.0,\"#f0f921\"]]}],\"contourcarpet\":[{\"type\":\"contourcarpet\",\"colorbar\":{\"outlinewidth\":0,\"ticks\":\"\"}}],\"contour\":[{\"type\":\"contour\",\"colorbar\":{\"outlinewidth\":0,\"ticks\":\"\"},\"colorscale\":[[0.0,\"#0d0887\"],[0.1111111111111111,\"#46039f\"],[0.2222222222222222,\"#7201a8\"],[0.3333333333333333,\"#9c179e\"],[0.4444444444444444,\"#bd3786\"],[0.5555555555555556,\"#d8576b\"],[0.6666666666666666,\"#ed7953\"],[0.7777777777777778,\"#fb9f3a\"],[0.8888888888888888,\"#fdca26\"],[1.0,\"#f0f921\"]]}],\"surface\":[{\"type\":\"surface\",\"colorbar\":{\"outlinewidth\":0,\"ticks\":\"\"},\"colorscale\":[[0.0,\"#0d0887\"],[0.1111111111111111,\"#46039f\"],[0.2222222222222222,\"#7201a8\"],[0.3333333333333333,\"#9c179e\"],[0.4444444444444444,\"#bd3786\"],[0.5555555555555556,\"#d8576b\"],[0.6666666666666666,\"#ed7953\"],[0.7777777777777778,\"#fb9f3a\"],[0.8888888888888888,\"#fdca26\"],[1.0,\"#f0f921\"]]}],\"mesh3d\":[{\"type\":\"mesh3d\",\"colorbar\":{\"outlinewidth\":0,\"ticks\":\"\"}}],\"scatter\":[{\"fillpattern\":{\"fillmode\":\"overlay\",\"size\":10,\"solidity\":0.2},\"type\":\"scatter\"}],\"parcoords\":[{\"type\":\"parcoords\",\"line\":{\"colorbar\":{\"outlinewidth\":0,\"ticks\":\"\"}}}],\"scatterpolargl\":[{\"type\":\"scatterpolargl\",\"marker\":{\"colorbar\":{\"outlinewidth\":0,\"ticks\":\"\"}}}],\"bar\":[{\"error_x\":{\"color\":\"#2a3f5f\"},\"error_y\":{\"color\":\"#2a3f5f\"},\"marker\":{\"line\":{\"color\":\"#E5ECF6\",\"width\":0.5},\"pattern\":{\"fillmode\":\"overlay\",\"size\":10,\"solidity\":0.2}},\"type\":\"bar\"}],\"scattergeo\":[{\"type\":\"scattergeo\",\"marker\":{\"colorbar\":{\"outlinewidth\":0,\"ticks\":\"\"}}}],\"scatterpolar\":[{\"type\":\"scatterpolar\",\"marker\":{\"colorbar\":{\"outlinewidth\":0,\"ticks\":\"\"}}}],\"histogram\":[{\"marker\":{\"pattern\":{\"fillmode\":\"overlay\",\"size\":10,\"solidity\":0.2}},\"type\":\"histogram\"}],\"scattergl\":[{\"type\":\"scattergl\",\"marker\":{\"colorbar\":{\"outlinewidth\":0,\"ticks\":\"\"}}}],\"scatter3d\":[{\"type\":\"scatter3d\",\"line\":{\"colorbar\":{\"outlinewidth\":0,\"ticks\":\"\"}},\"marker\":{\"colorbar\":{\"outlinewidth\":0,\"ticks\":\"\"}}}],\"scattermapbox\":[{\"type\":\"scattermapbox\",\"marker\":{\"colorbar\":{\"outlinewidth\":0,\"ticks\":\"\"}}}],\"scatterternary\":[{\"type\":\"scatterternary\",\"marker\":{\"colorbar\":{\"outlinewidth\":0,\"ticks\":\"\"}}}],\"scattercarpet\":[{\"type\":\"scattercarpet\",\"marker\":{\"colorbar\":{\"outlinewidth\":0,\"ticks\":\"\"}}}],\"carpet\":[{\"aaxis\":{\"endlinecolor\":\"#2a3f5f\",\"gridcolor\":\"white\",\"linecolor\":\"white\",\"minorgridcolor\":\"white\",\"startlinecolor\":\"#2a3f5f\"},\"baxis\":{\"endlinecolor\":\"#2a3f5f\",\"gridcolor\":\"white\",\"linecolor\":\"white\",\"minorgridcolor\":\"white\",\"startlinecolor\":\"#2a3f5f\"},\"type\":\"carpet\"}],\"table\":[{\"cells\":{\"fill\":{\"color\":\"#EBF0F8\"},\"line\":{\"color\":\"white\"}},\"header\":{\"fill\":{\"color\":\"#C8D4E3\"},\"line\":{\"color\":\"white\"}},\"type\":\"table\"}],\"barpolar\":[{\"marker\":{\"line\":{\"color\":\"#E5ECF6\",\"width\":0.5},\"pattern\":{\"fillmode\":\"overlay\",\"size\":10,\"solidity\":0.2}},\"type\":\"barpolar\"}],\"pie\":[{\"automargin\":true,\"type\":\"pie\"}]},\"layout\":{\"autotypenumbers\":\"strict\",\"colorway\":[\"#636efa\",\"#EF553B\",\"#00cc96\",\"#ab63fa\",\"#FFA15A\",\"#19d3f3\",\"#FF6692\",\"#B6E880\",\"#FF97FF\",\"#FECB52\"],\"font\":{\"color\":\"#2a3f5f\"},\"hovermode\":\"closest\",\"hoverlabel\":{\"align\":\"left\"},\"paper_bgcolor\":\"white\",\"plot_bgcolor\":\"#E5ECF6\",\"polar\":{\"bgcolor\":\"#E5ECF6\",\"angularaxis\":{\"gridcolor\":\"white\",\"linecolor\":\"white\",\"ticks\":\"\"},\"radialaxis\":{\"gridcolor\":\"white\",\"linecolor\":\"white\",\"ticks\":\"\"}},\"ternary\":{\"bgcolor\":\"#E5ECF6\",\"aaxis\":{\"gridcolor\":\"white\",\"linecolor\":\"white\",\"ticks\":\"\"},\"baxis\":{\"gridcolor\":\"white\",\"linecolor\":\"white\",\"ticks\":\"\"},\"caxis\":{\"gridcolor\":\"white\",\"linecolor\":\"white\",\"ticks\":\"\"}},\"coloraxis\":{\"colorbar\":{\"outlinewidth\":0,\"ticks\":\"\"}},\"colorscale\":{\"sequential\":[[0.0,\"#0d0887\"],[0.1111111111111111,\"#46039f\"],[0.2222222222222222,\"#7201a8\"],[0.3333333333333333,\"#9c179e\"],[0.4444444444444444,\"#bd3786\"],[0.5555555555555556,\"#d8576b\"],[0.6666666666666666,\"#ed7953\"],[0.7777777777777778,\"#fb9f3a\"],[0.8888888888888888,\"#fdca26\"],[1.0,\"#f0f921\"]],\"sequentialminus\":[[0.0,\"#0d0887\"],[0.1111111111111111,\"#46039f\"],[0.2222222222222222,\"#7201a8\"],[0.3333333333333333,\"#9c179e\"],[0.4444444444444444,\"#bd3786\"],[0.5555555555555556,\"#d8576b\"],[0.6666666666666666,\"#ed7953\"],[0.7777777777777778,\"#fb9f3a\"],[0.8888888888888888,\"#fdca26\"],[1.0,\"#f0f921\"]],\"diverging\":[[0,\"#8e0152\"],[0.1,\"#c51b7d\"],[0.2,\"#de77ae\"],[0.3,\"#f1b6da\"],[0.4,\"#fde0ef\"],[0.5,\"#f7f7f7\"],[0.6,\"#e6f5d0\"],[0.7,\"#b8e186\"],[0.8,\"#7fbc41\"],[0.9,\"#4d9221\"],[1,\"#276419\"]]},\"xaxis\":{\"gridcolor\":\"white\",\"linecolor\":\"white\",\"ticks\":\"\",\"title\":{\"standoff\":15},\"zerolinecolor\":\"white\",\"automargin\":true,\"zerolinewidth\":2},\"yaxis\":{\"gridcolor\":\"white\",\"linecolor\":\"white\",\"ticks\":\"\",\"title\":{\"standoff\":15},\"zerolinecolor\":\"white\",\"automargin\":true,\"zerolinewidth\":2},\"scene\":{\"xaxis\":{\"backgroundcolor\":\"#E5ECF6\",\"gridcolor\":\"white\",\"linecolor\":\"white\",\"showbackground\":true,\"ticks\":\"\",\"zerolinecolor\":\"white\",\"gridwidth\":2},\"yaxis\":{\"backgroundcolor\":\"#E5ECF6\",\"gridcolor\":\"white\",\"linecolor\":\"white\",\"showbackground\":true,\"ticks\":\"\",\"zerolinecolor\":\"white\",\"gridwidth\":2},\"zaxis\":{\"backgroundcolor\":\"#E5ECF6\",\"gridcolor\":\"white\",\"linecolor\":\"white\",\"showbackground\":true,\"ticks\":\"\",\"zerolinecolor\":\"white\",\"gridwidth\":2}},\"shapedefaults\":{\"line\":{\"color\":\"#2a3f5f\"}},\"annotationdefaults\":{\"arrowcolor\":\"#2a3f5f\",\"arrowhead\":0,\"arrowwidth\":1},\"geo\":{\"bgcolor\":\"white\",\"landcolor\":\"#E5ECF6\",\"subunitcolor\":\"white\",\"showland\":true,\"showlakes\":true,\"lakecolor\":\"white\"},\"title\":{\"x\":0.05},\"mapbox\":{\"style\":\"light\"}}},\"xaxis\":{\"anchor\":\"y\",\"domain\":[0.0,1.0],\"title\":{\"text\":\"milage class\"}},\"yaxis\":{\"anchor\":\"x\",\"domain\":[0.0,1.0],\"title\":{\"text\":\"Number of car\"}},\"legend\":{\"tracegroupgap\":0},\"title\":{\"text\":\"Car Mileage Distribution\"},\"barmode\":\"relative\"},                        {\"responsive\": true}                    ).then(function(){\n",
       "                            \n",
       "var gd = document.getElementById('306273ea-af76-416a-9be2-c99e7f8d8da1');\n",
       "var x = new MutationObserver(function (mutations, observer) {{\n",
       "        var display = window.getComputedStyle(gd).display;\n",
       "        if (!display || display === 'none') {{\n",
       "            console.log([gd, 'removed!']);\n",
       "            Plotly.purge(gd);\n",
       "            observer.disconnect();\n",
       "        }}\n",
       "}});\n",
       "\n",
       "// Listen for the removal of the full notebook cells\n",
       "var notebookContainer = gd.closest('#notebook-container');\n",
       "if (notebookContainer) {{\n",
       "    x.observe(notebookContainer, {childList: true});\n",
       "}}\n",
       "\n",
       "// Listen for the clearing of the current output cell\n",
       "var outputEl = gd.closest('.output');\n",
       "if (outputEl) {{\n",
       "    x.observe(outputEl, {childList: true});\n",
       "}}\n",
       "\n",
       "                        })                };                });            </script>        </div>"
      ]
     },
     "metadata": {},
     "output_type": "display_data"
    }
   ],
   "source": [
    "chart=px.bar(distribution,\n",
    "             x='milage class',\n",
    "             y=distribution.columns[2],\n",
    "             title='Car Mileage Distribution',\n",
    "             labels={'milage class':'milage class',distribution.columns[2]:'Number of car'})\n",
    "chart.show()"
   ]
  },
  {
   "cell_type": "code",
   "execution_count": 85,
   "id": "712730c6-1f1e-4379-b022-d6a70dbfa8dc",
   "metadata": {},
   "outputs": [
    {
     "data": {
      "application/vnd.plotly.v1+json": {
       "config": {
        "plotlyServerURL": "https://plot.ly"
       },
       "data": [
        {
         "domain": {
          "x": [
           0,
           1
          ],
          "y": [
           0,
           1
          ]
         },
         "hovertemplate": "label=%{label}<br>value=%{value}<extra></extra>",
         "labels": [
          "Petrol",
          "Diesel",
          "Hybrid",
          "Electric",
          "Not specified",
          "Others",
          "LPG"
         ],
         "legendgroup": "",
         "name": "",
         "showlegend": true,
         "type": "pie",
         "values": [
          53.776978417266186,
          29.637718396711204,
          8.543165467625899,
          5.4470709146968135,
          2.1454265159301134,
          0.34686536485097635,
          0.10277492291880781
         ]
        }
       ],
       "layout": {
        "autosize": true,
        "legend": {
         "tracegroupgap": 0
        },
        "template": {
         "data": {
          "bar": [
           {
            "error_x": {
             "color": "#2a3f5f"
            },
            "error_y": {
             "color": "#2a3f5f"
            },
            "marker": {
             "line": {
              "color": "#E5ECF6",
              "width": 0.5
             },
             "pattern": {
              "fillmode": "overlay",
              "size": 10,
              "solidity": 0.2
             }
            },
            "type": "bar"
           }
          ],
          "barpolar": [
           {
            "marker": {
             "line": {
              "color": "#E5ECF6",
              "width": 0.5
             },
             "pattern": {
              "fillmode": "overlay",
              "size": 10,
              "solidity": 0.2
             }
            },
            "type": "barpolar"
           }
          ],
          "carpet": [
           {
            "aaxis": {
             "endlinecolor": "#2a3f5f",
             "gridcolor": "white",
             "linecolor": "white",
             "minorgridcolor": "white",
             "startlinecolor": "#2a3f5f"
            },
            "baxis": {
             "endlinecolor": "#2a3f5f",
             "gridcolor": "white",
             "linecolor": "white",
             "minorgridcolor": "white",
             "startlinecolor": "#2a3f5f"
            },
            "type": "carpet"
           }
          ],
          "choropleth": [
           {
            "colorbar": {
             "outlinewidth": 0,
             "ticks": ""
            },
            "type": "choropleth"
           }
          ],
          "contour": [
           {
            "colorbar": {
             "outlinewidth": 0,
             "ticks": ""
            },
            "colorscale": [
             [
              0,
              "#0d0887"
             ],
             [
              0.1111111111111111,
              "#46039f"
             ],
             [
              0.2222222222222222,
              "#7201a8"
             ],
             [
              0.3333333333333333,
              "#9c179e"
             ],
             [
              0.4444444444444444,
              "#bd3786"
             ],
             [
              0.5555555555555556,
              "#d8576b"
             ],
             [
              0.6666666666666666,
              "#ed7953"
             ],
             [
              0.7777777777777778,
              "#fb9f3a"
             ],
             [
              0.8888888888888888,
              "#fdca26"
             ],
             [
              1,
              "#f0f921"
             ]
            ],
            "type": "contour"
           }
          ],
          "contourcarpet": [
           {
            "colorbar": {
             "outlinewidth": 0,
             "ticks": ""
            },
            "type": "contourcarpet"
           }
          ],
          "heatmap": [
           {
            "colorbar": {
             "outlinewidth": 0,
             "ticks": ""
            },
            "colorscale": [
             [
              0,
              "#0d0887"
             ],
             [
              0.1111111111111111,
              "#46039f"
             ],
             [
              0.2222222222222222,
              "#7201a8"
             ],
             [
              0.3333333333333333,
              "#9c179e"
             ],
             [
              0.4444444444444444,
              "#bd3786"
             ],
             [
              0.5555555555555556,
              "#d8576b"
             ],
             [
              0.6666666666666666,
              "#ed7953"
             ],
             [
              0.7777777777777778,
              "#fb9f3a"
             ],
             [
              0.8888888888888888,
              "#fdca26"
             ],
             [
              1,
              "#f0f921"
             ]
            ],
            "type": "heatmap"
           }
          ],
          "heatmapgl": [
           {
            "colorbar": {
             "outlinewidth": 0,
             "ticks": ""
            },
            "colorscale": [
             [
              0,
              "#0d0887"
             ],
             [
              0.1111111111111111,
              "#46039f"
             ],
             [
              0.2222222222222222,
              "#7201a8"
             ],
             [
              0.3333333333333333,
              "#9c179e"
             ],
             [
              0.4444444444444444,
              "#bd3786"
             ],
             [
              0.5555555555555556,
              "#d8576b"
             ],
             [
              0.6666666666666666,
              "#ed7953"
             ],
             [
              0.7777777777777778,
              "#fb9f3a"
             ],
             [
              0.8888888888888888,
              "#fdca26"
             ],
             [
              1,
              "#f0f921"
             ]
            ],
            "type": "heatmapgl"
           }
          ],
          "histogram": [
           {
            "marker": {
             "pattern": {
              "fillmode": "overlay",
              "size": 10,
              "solidity": 0.2
             }
            },
            "type": "histogram"
           }
          ],
          "histogram2d": [
           {
            "colorbar": {
             "outlinewidth": 0,
             "ticks": ""
            },
            "colorscale": [
             [
              0,
              "#0d0887"
             ],
             [
              0.1111111111111111,
              "#46039f"
             ],
             [
              0.2222222222222222,
              "#7201a8"
             ],
             [
              0.3333333333333333,
              "#9c179e"
             ],
             [
              0.4444444444444444,
              "#bd3786"
             ],
             [
              0.5555555555555556,
              "#d8576b"
             ],
             [
              0.6666666666666666,
              "#ed7953"
             ],
             [
              0.7777777777777778,
              "#fb9f3a"
             ],
             [
              0.8888888888888888,
              "#fdca26"
             ],
             [
              1,
              "#f0f921"
             ]
            ],
            "type": "histogram2d"
           }
          ],
          "histogram2dcontour": [
           {
            "colorbar": {
             "outlinewidth": 0,
             "ticks": ""
            },
            "colorscale": [
             [
              0,
              "#0d0887"
             ],
             [
              0.1111111111111111,
              "#46039f"
             ],
             [
              0.2222222222222222,
              "#7201a8"
             ],
             [
              0.3333333333333333,
              "#9c179e"
             ],
             [
              0.4444444444444444,
              "#bd3786"
             ],
             [
              0.5555555555555556,
              "#d8576b"
             ],
             [
              0.6666666666666666,
              "#ed7953"
             ],
             [
              0.7777777777777778,
              "#fb9f3a"
             ],
             [
              0.8888888888888888,
              "#fdca26"
             ],
             [
              1,
              "#f0f921"
             ]
            ],
            "type": "histogram2dcontour"
           }
          ],
          "mesh3d": [
           {
            "colorbar": {
             "outlinewidth": 0,
             "ticks": ""
            },
            "type": "mesh3d"
           }
          ],
          "parcoords": [
           {
            "line": {
             "colorbar": {
              "outlinewidth": 0,
              "ticks": ""
             }
            },
            "type": "parcoords"
           }
          ],
          "pie": [
           {
            "automargin": true,
            "type": "pie"
           }
          ],
          "scatter": [
           {
            "fillpattern": {
             "fillmode": "overlay",
             "size": 10,
             "solidity": 0.2
            },
            "type": "scatter"
           }
          ],
          "scatter3d": [
           {
            "line": {
             "colorbar": {
              "outlinewidth": 0,
              "ticks": ""
             }
            },
            "marker": {
             "colorbar": {
              "outlinewidth": 0,
              "ticks": ""
             }
            },
            "type": "scatter3d"
           }
          ],
          "scattercarpet": [
           {
            "marker": {
             "colorbar": {
              "outlinewidth": 0,
              "ticks": ""
             }
            },
            "type": "scattercarpet"
           }
          ],
          "scattergeo": [
           {
            "marker": {
             "colorbar": {
              "outlinewidth": 0,
              "ticks": ""
             }
            },
            "type": "scattergeo"
           }
          ],
          "scattergl": [
           {
            "marker": {
             "colorbar": {
              "outlinewidth": 0,
              "ticks": ""
             }
            },
            "type": "scattergl"
           }
          ],
          "scattermapbox": [
           {
            "marker": {
             "colorbar": {
              "outlinewidth": 0,
              "ticks": ""
             }
            },
            "type": "scattermapbox"
           }
          ],
          "scatterpolar": [
           {
            "marker": {
             "colorbar": {
              "outlinewidth": 0,
              "ticks": ""
             }
            },
            "type": "scatterpolar"
           }
          ],
          "scatterpolargl": [
           {
            "marker": {
             "colorbar": {
              "outlinewidth": 0,
              "ticks": ""
             }
            },
            "type": "scatterpolargl"
           }
          ],
          "scatterternary": [
           {
            "marker": {
             "colorbar": {
              "outlinewidth": 0,
              "ticks": ""
             }
            },
            "type": "scatterternary"
           }
          ],
          "surface": [
           {
            "colorbar": {
             "outlinewidth": 0,
             "ticks": ""
            },
            "colorscale": [
             [
              0,
              "#0d0887"
             ],
             [
              0.1111111111111111,
              "#46039f"
             ],
             [
              0.2222222222222222,
              "#7201a8"
             ],
             [
              0.3333333333333333,
              "#9c179e"
             ],
             [
              0.4444444444444444,
              "#bd3786"
             ],
             [
              0.5555555555555556,
              "#d8576b"
             ],
             [
              0.6666666666666666,
              "#ed7953"
             ],
             [
              0.7777777777777778,
              "#fb9f3a"
             ],
             [
              0.8888888888888888,
              "#fdca26"
             ],
             [
              1,
              "#f0f921"
             ]
            ],
            "type": "surface"
           }
          ],
          "table": [
           {
            "cells": {
             "fill": {
              "color": "#EBF0F8"
             },
             "line": {
              "color": "white"
             }
            },
            "header": {
             "fill": {
              "color": "#C8D4E3"
             },
             "line": {
              "color": "white"
             }
            },
            "type": "table"
           }
          ]
         },
         "layout": {
          "annotationdefaults": {
           "arrowcolor": "#2a3f5f",
           "arrowhead": 0,
           "arrowwidth": 1
          },
          "autotypenumbers": "strict",
          "coloraxis": {
           "colorbar": {
            "outlinewidth": 0,
            "ticks": ""
           }
          },
          "colorscale": {
           "diverging": [
            [
             0,
             "#8e0152"
            ],
            [
             0.1,
             "#c51b7d"
            ],
            [
             0.2,
             "#de77ae"
            ],
            [
             0.3,
             "#f1b6da"
            ],
            [
             0.4,
             "#fde0ef"
            ],
            [
             0.5,
             "#f7f7f7"
            ],
            [
             0.6,
             "#e6f5d0"
            ],
            [
             0.7,
             "#b8e186"
            ],
            [
             0.8,
             "#7fbc41"
            ],
            [
             0.9,
             "#4d9221"
            ],
            [
             1,
             "#276419"
            ]
           ],
           "sequential": [
            [
             0,
             "#0d0887"
            ],
            [
             0.1111111111111111,
             "#46039f"
            ],
            [
             0.2222222222222222,
             "#7201a8"
            ],
            [
             0.3333333333333333,
             "#9c179e"
            ],
            [
             0.4444444444444444,
             "#bd3786"
            ],
            [
             0.5555555555555556,
             "#d8576b"
            ],
            [
             0.6666666666666666,
             "#ed7953"
            ],
            [
             0.7777777777777778,
             "#fb9f3a"
            ],
            [
             0.8888888888888888,
             "#fdca26"
            ],
            [
             1,
             "#f0f921"
            ]
           ],
           "sequentialminus": [
            [
             0,
             "#0d0887"
            ],
            [
             0.1111111111111111,
             "#46039f"
            ],
            [
             0.2222222222222222,
             "#7201a8"
            ],
            [
             0.3333333333333333,
             "#9c179e"
            ],
            [
             0.4444444444444444,
             "#bd3786"
            ],
            [
             0.5555555555555556,
             "#d8576b"
            ],
            [
             0.6666666666666666,
             "#ed7953"
            ],
            [
             0.7777777777777778,
             "#fb9f3a"
            ],
            [
             0.8888888888888888,
             "#fdca26"
            ],
            [
             1,
             "#f0f921"
            ]
           ]
          },
          "colorway": [
           "#636efa",
           "#EF553B",
           "#00cc96",
           "#ab63fa",
           "#FFA15A",
           "#19d3f3",
           "#FF6692",
           "#B6E880",
           "#FF97FF",
           "#FECB52"
          ],
          "font": {
           "color": "#2a3f5f"
          },
          "geo": {
           "bgcolor": "white",
           "lakecolor": "white",
           "landcolor": "#E5ECF6",
           "showlakes": true,
           "showland": true,
           "subunitcolor": "white"
          },
          "hoverlabel": {
           "align": "left"
          },
          "hovermode": "closest",
          "mapbox": {
           "style": "light"
          },
          "paper_bgcolor": "white",
          "plot_bgcolor": "#E5ECF6",
          "polar": {
           "angularaxis": {
            "gridcolor": "white",
            "linecolor": "white",
            "ticks": ""
           },
           "bgcolor": "#E5ECF6",
           "radialaxis": {
            "gridcolor": "white",
            "linecolor": "white",
            "ticks": ""
           }
          },
          "scene": {
           "xaxis": {
            "backgroundcolor": "#E5ECF6",
            "gridcolor": "white",
            "gridwidth": 2,
            "linecolor": "white",
            "showbackground": true,
            "ticks": "",
            "zerolinecolor": "white"
           },
           "yaxis": {
            "backgroundcolor": "#E5ECF6",
            "gridcolor": "white",
            "gridwidth": 2,
            "linecolor": "white",
            "showbackground": true,
            "ticks": "",
            "zerolinecolor": "white"
           },
           "zaxis": {
            "backgroundcolor": "#E5ECF6",
            "gridcolor": "white",
            "gridwidth": 2,
            "linecolor": "white",
            "showbackground": true,
            "ticks": "",
            "zerolinecolor": "white"
           }
          },
          "shapedefaults": {
           "line": {
            "color": "#2a3f5f"
           }
          },
          "ternary": {
           "aaxis": {
            "gridcolor": "white",
            "linecolor": "white",
            "ticks": ""
           },
           "baxis": {
            "gridcolor": "white",
            "linecolor": "white",
            "ticks": ""
           },
           "bgcolor": "#E5ECF6",
           "caxis": {
            "gridcolor": "white",
            "linecolor": "white",
            "ticks": ""
           }
          },
          "title": {
           "x": 0.05
          },
          "xaxis": {
           "automargin": true,
           "gridcolor": "white",
           "linecolor": "white",
           "ticks": "",
           "title": {
            "standoff": 15
           },
           "zerolinecolor": "white",
           "zerolinewidth": 2
          },
          "yaxis": {
           "automargin": true,
           "gridcolor": "white",
           "linecolor": "white",
           "ticks": "",
           "title": {
            "standoff": 15
           },
           "zerolinecolor": "white",
           "zerolinewidth": 2
          }
         }
        },
        "title": {
         "text": "Fuel Type Distribution"
        }
       }
      },
      "text/html": [
       "<div>                            <div id=\"eb67d292-6ab3-45f1-a05a-aac4eb5f596a\" class=\"plotly-graph-div\" style=\"height:525px; width:100%;\"></div>            <script type=\"text/javascript\">                require([\"plotly\"], function(Plotly) {                    window.PLOTLYENV=window.PLOTLYENV || {};                                    if (document.getElementById(\"eb67d292-6ab3-45f1-a05a-aac4eb5f596a\")) {                    Plotly.newPlot(                        \"eb67d292-6ab3-45f1-a05a-aac4eb5f596a\",                        [{\"domain\":{\"x\":[0.0,1.0],\"y\":[0.0,1.0]},\"hovertemplate\":\"label=%{label}\\u003cbr\\u003evalue=%{value}\\u003cextra\\u003e\\u003c\\u002fextra\\u003e\",\"labels\":[\"Petrol\",\"Diesel\",\"Hybrid\",\"Electric\",\"Not specified\",\"Others\",\"LPG\"],\"legendgroup\":\"\",\"name\":\"\",\"showlegend\":true,\"values\":[53.776978417266186,29.637718396711204,8.543165467625899,5.4470709146968135,2.1454265159301134,0.34686536485097635,0.10277492291880781],\"type\":\"pie\"}],                        {\"template\":{\"data\":{\"histogram2dcontour\":[{\"type\":\"histogram2dcontour\",\"colorbar\":{\"outlinewidth\":0,\"ticks\":\"\"},\"colorscale\":[[0.0,\"#0d0887\"],[0.1111111111111111,\"#46039f\"],[0.2222222222222222,\"#7201a8\"],[0.3333333333333333,\"#9c179e\"],[0.4444444444444444,\"#bd3786\"],[0.5555555555555556,\"#d8576b\"],[0.6666666666666666,\"#ed7953\"],[0.7777777777777778,\"#fb9f3a\"],[0.8888888888888888,\"#fdca26\"],[1.0,\"#f0f921\"]]}],\"choropleth\":[{\"type\":\"choropleth\",\"colorbar\":{\"outlinewidth\":0,\"ticks\":\"\"}}],\"histogram2d\":[{\"type\":\"histogram2d\",\"colorbar\":{\"outlinewidth\":0,\"ticks\":\"\"},\"colorscale\":[[0.0,\"#0d0887\"],[0.1111111111111111,\"#46039f\"],[0.2222222222222222,\"#7201a8\"],[0.3333333333333333,\"#9c179e\"],[0.4444444444444444,\"#bd3786\"],[0.5555555555555556,\"#d8576b\"],[0.6666666666666666,\"#ed7953\"],[0.7777777777777778,\"#fb9f3a\"],[0.8888888888888888,\"#fdca26\"],[1.0,\"#f0f921\"]]}],\"heatmap\":[{\"type\":\"heatmap\",\"colorbar\":{\"outlinewidth\":0,\"ticks\":\"\"},\"colorscale\":[[0.0,\"#0d0887\"],[0.1111111111111111,\"#46039f\"],[0.2222222222222222,\"#7201a8\"],[0.3333333333333333,\"#9c179e\"],[0.4444444444444444,\"#bd3786\"],[0.5555555555555556,\"#d8576b\"],[0.6666666666666666,\"#ed7953\"],[0.7777777777777778,\"#fb9f3a\"],[0.8888888888888888,\"#fdca26\"],[1.0,\"#f0f921\"]]}],\"heatmapgl\":[{\"type\":\"heatmapgl\",\"colorbar\":{\"outlinewidth\":0,\"ticks\":\"\"},\"colorscale\":[[0.0,\"#0d0887\"],[0.1111111111111111,\"#46039f\"],[0.2222222222222222,\"#7201a8\"],[0.3333333333333333,\"#9c179e\"],[0.4444444444444444,\"#bd3786\"],[0.5555555555555556,\"#d8576b\"],[0.6666666666666666,\"#ed7953\"],[0.7777777777777778,\"#fb9f3a\"],[0.8888888888888888,\"#fdca26\"],[1.0,\"#f0f921\"]]}],\"contourcarpet\":[{\"type\":\"contourcarpet\",\"colorbar\":{\"outlinewidth\":0,\"ticks\":\"\"}}],\"contour\":[{\"type\":\"contour\",\"colorbar\":{\"outlinewidth\":0,\"ticks\":\"\"},\"colorscale\":[[0.0,\"#0d0887\"],[0.1111111111111111,\"#46039f\"],[0.2222222222222222,\"#7201a8\"],[0.3333333333333333,\"#9c179e\"],[0.4444444444444444,\"#bd3786\"],[0.5555555555555556,\"#d8576b\"],[0.6666666666666666,\"#ed7953\"],[0.7777777777777778,\"#fb9f3a\"],[0.8888888888888888,\"#fdca26\"],[1.0,\"#f0f921\"]]}],\"surface\":[{\"type\":\"surface\",\"colorbar\":{\"outlinewidth\":0,\"ticks\":\"\"},\"colorscale\":[[0.0,\"#0d0887\"],[0.1111111111111111,\"#46039f\"],[0.2222222222222222,\"#7201a8\"],[0.3333333333333333,\"#9c179e\"],[0.4444444444444444,\"#bd3786\"],[0.5555555555555556,\"#d8576b\"],[0.6666666666666666,\"#ed7953\"],[0.7777777777777778,\"#fb9f3a\"],[0.8888888888888888,\"#fdca26\"],[1.0,\"#f0f921\"]]}],\"mesh3d\":[{\"type\":\"mesh3d\",\"colorbar\":{\"outlinewidth\":0,\"ticks\":\"\"}}],\"scatter\":[{\"fillpattern\":{\"fillmode\":\"overlay\",\"size\":10,\"solidity\":0.2},\"type\":\"scatter\"}],\"parcoords\":[{\"type\":\"parcoords\",\"line\":{\"colorbar\":{\"outlinewidth\":0,\"ticks\":\"\"}}}],\"scatterpolargl\":[{\"type\":\"scatterpolargl\",\"marker\":{\"colorbar\":{\"outlinewidth\":0,\"ticks\":\"\"}}}],\"bar\":[{\"error_x\":{\"color\":\"#2a3f5f\"},\"error_y\":{\"color\":\"#2a3f5f\"},\"marker\":{\"line\":{\"color\":\"#E5ECF6\",\"width\":0.5},\"pattern\":{\"fillmode\":\"overlay\",\"size\":10,\"solidity\":0.2}},\"type\":\"bar\"}],\"scattergeo\":[{\"type\":\"scattergeo\",\"marker\":{\"colorbar\":{\"outlinewidth\":0,\"ticks\":\"\"}}}],\"scatterpolar\":[{\"type\":\"scatterpolar\",\"marker\":{\"colorbar\":{\"outlinewidth\":0,\"ticks\":\"\"}}}],\"histogram\":[{\"marker\":{\"pattern\":{\"fillmode\":\"overlay\",\"size\":10,\"solidity\":0.2}},\"type\":\"histogram\"}],\"scattergl\":[{\"type\":\"scattergl\",\"marker\":{\"colorbar\":{\"outlinewidth\":0,\"ticks\":\"\"}}}],\"scatter3d\":[{\"type\":\"scatter3d\",\"line\":{\"colorbar\":{\"outlinewidth\":0,\"ticks\":\"\"}},\"marker\":{\"colorbar\":{\"outlinewidth\":0,\"ticks\":\"\"}}}],\"scattermapbox\":[{\"type\":\"scattermapbox\",\"marker\":{\"colorbar\":{\"outlinewidth\":0,\"ticks\":\"\"}}}],\"scatterternary\":[{\"type\":\"scatterternary\",\"marker\":{\"colorbar\":{\"outlinewidth\":0,\"ticks\":\"\"}}}],\"scattercarpet\":[{\"type\":\"scattercarpet\",\"marker\":{\"colorbar\":{\"outlinewidth\":0,\"ticks\":\"\"}}}],\"carpet\":[{\"aaxis\":{\"endlinecolor\":\"#2a3f5f\",\"gridcolor\":\"white\",\"linecolor\":\"white\",\"minorgridcolor\":\"white\",\"startlinecolor\":\"#2a3f5f\"},\"baxis\":{\"endlinecolor\":\"#2a3f5f\",\"gridcolor\":\"white\",\"linecolor\":\"white\",\"minorgridcolor\":\"white\",\"startlinecolor\":\"#2a3f5f\"},\"type\":\"carpet\"}],\"table\":[{\"cells\":{\"fill\":{\"color\":\"#EBF0F8\"},\"line\":{\"color\":\"white\"}},\"header\":{\"fill\":{\"color\":\"#C8D4E3\"},\"line\":{\"color\":\"white\"}},\"type\":\"table\"}],\"barpolar\":[{\"marker\":{\"line\":{\"color\":\"#E5ECF6\",\"width\":0.5},\"pattern\":{\"fillmode\":\"overlay\",\"size\":10,\"solidity\":0.2}},\"type\":\"barpolar\"}],\"pie\":[{\"automargin\":true,\"type\":\"pie\"}]},\"layout\":{\"autotypenumbers\":\"strict\",\"colorway\":[\"#636efa\",\"#EF553B\",\"#00cc96\",\"#ab63fa\",\"#FFA15A\",\"#19d3f3\",\"#FF6692\",\"#B6E880\",\"#FF97FF\",\"#FECB52\"],\"font\":{\"color\":\"#2a3f5f\"},\"hovermode\":\"closest\",\"hoverlabel\":{\"align\":\"left\"},\"paper_bgcolor\":\"white\",\"plot_bgcolor\":\"#E5ECF6\",\"polar\":{\"bgcolor\":\"#E5ECF6\",\"angularaxis\":{\"gridcolor\":\"white\",\"linecolor\":\"white\",\"ticks\":\"\"},\"radialaxis\":{\"gridcolor\":\"white\",\"linecolor\":\"white\",\"ticks\":\"\"}},\"ternary\":{\"bgcolor\":\"#E5ECF6\",\"aaxis\":{\"gridcolor\":\"white\",\"linecolor\":\"white\",\"ticks\":\"\"},\"baxis\":{\"gridcolor\":\"white\",\"linecolor\":\"white\",\"ticks\":\"\"},\"caxis\":{\"gridcolor\":\"white\",\"linecolor\":\"white\",\"ticks\":\"\"}},\"coloraxis\":{\"colorbar\":{\"outlinewidth\":0,\"ticks\":\"\"}},\"colorscale\":{\"sequential\":[[0.0,\"#0d0887\"],[0.1111111111111111,\"#46039f\"],[0.2222222222222222,\"#7201a8\"],[0.3333333333333333,\"#9c179e\"],[0.4444444444444444,\"#bd3786\"],[0.5555555555555556,\"#d8576b\"],[0.6666666666666666,\"#ed7953\"],[0.7777777777777778,\"#fb9f3a\"],[0.8888888888888888,\"#fdca26\"],[1.0,\"#f0f921\"]],\"sequentialminus\":[[0.0,\"#0d0887\"],[0.1111111111111111,\"#46039f\"],[0.2222222222222222,\"#7201a8\"],[0.3333333333333333,\"#9c179e\"],[0.4444444444444444,\"#bd3786\"],[0.5555555555555556,\"#d8576b\"],[0.6666666666666666,\"#ed7953\"],[0.7777777777777778,\"#fb9f3a\"],[0.8888888888888888,\"#fdca26\"],[1.0,\"#f0f921\"]],\"diverging\":[[0,\"#8e0152\"],[0.1,\"#c51b7d\"],[0.2,\"#de77ae\"],[0.3,\"#f1b6da\"],[0.4,\"#fde0ef\"],[0.5,\"#f7f7f7\"],[0.6,\"#e6f5d0\"],[0.7,\"#b8e186\"],[0.8,\"#7fbc41\"],[0.9,\"#4d9221\"],[1,\"#276419\"]]},\"xaxis\":{\"gridcolor\":\"white\",\"linecolor\":\"white\",\"ticks\":\"\",\"title\":{\"standoff\":15},\"zerolinecolor\":\"white\",\"automargin\":true,\"zerolinewidth\":2},\"yaxis\":{\"gridcolor\":\"white\",\"linecolor\":\"white\",\"ticks\":\"\",\"title\":{\"standoff\":15},\"zerolinecolor\":\"white\",\"automargin\":true,\"zerolinewidth\":2},\"scene\":{\"xaxis\":{\"backgroundcolor\":\"#E5ECF6\",\"gridcolor\":\"white\",\"linecolor\":\"white\",\"showbackground\":true,\"ticks\":\"\",\"zerolinecolor\":\"white\",\"gridwidth\":2},\"yaxis\":{\"backgroundcolor\":\"#E5ECF6\",\"gridcolor\":\"white\",\"linecolor\":\"white\",\"showbackground\":true,\"ticks\":\"\",\"zerolinecolor\":\"white\",\"gridwidth\":2},\"zaxis\":{\"backgroundcolor\":\"#E5ECF6\",\"gridcolor\":\"white\",\"linecolor\":\"white\",\"showbackground\":true,\"ticks\":\"\",\"zerolinecolor\":\"white\",\"gridwidth\":2}},\"shapedefaults\":{\"line\":{\"color\":\"#2a3f5f\"}},\"annotationdefaults\":{\"arrowcolor\":\"#2a3f5f\",\"arrowhead\":0,\"arrowwidth\":1},\"geo\":{\"bgcolor\":\"white\",\"landcolor\":\"#E5ECF6\",\"subunitcolor\":\"white\",\"showland\":true,\"showlakes\":true,\"lakecolor\":\"white\"},\"title\":{\"x\":0.05},\"mapbox\":{\"style\":\"light\"}}},\"legend\":{\"tracegroupgap\":0},\"title\":{\"text\":\"Fuel Type Distribution\"}},                        {\"responsive\": true}                    ).then(function(){\n",
       "                            \n",
       "var gd = document.getElementById('eb67d292-6ab3-45f1-a05a-aac4eb5f596a');\n",
       "var x = new MutationObserver(function (mutations, observer) {{\n",
       "        var display = window.getComputedStyle(gd).display;\n",
       "        if (!display || display === 'none') {{\n",
       "            console.log([gd, 'removed!']);\n",
       "            Plotly.purge(gd);\n",
       "            observer.disconnect();\n",
       "        }}\n",
       "}});\n",
       "\n",
       "// Listen for the removal of the full notebook cells\n",
       "var notebookContainer = gd.closest('#notebook-container');\n",
       "if (notebookContainer) {{\n",
       "    x.observe(notebookContainer, {childList: true});\n",
       "}}\n",
       "\n",
       "// Listen for the clearing of the current output cell\n",
       "var outputEl = gd.closest('.output');\n",
       "if (outputEl) {{\n",
       "    x.observe(outputEl, {childList: true});\n",
       "}}\n",
       "\n",
       "                        })                };                });            </script>        </div>"
      ]
     },
     "metadata": {},
     "output_type": "display_data"
    }
   ],
   "source": [
    "fuel_dist = car['fuel'].value_counts(normalize=True) * 100\n",
    "fig = px.pie(names=fuel_dist.index, values=fuel_dist.values, title=\"Fuel Type Distribution\")\n",
    "fig.show()"
   ]
  },
  {
   "cell_type": "code",
   "execution_count": 86,
   "id": "fbb48166-b8f0-4326-8d6e-33c6f89093e4",
   "metadata": {},
   "outputs": [
    {
     "data": {
      "text/html": [
       "<div>\n",
       "<style scoped>\n",
       "    .dataframe tbody tr th:only-of-type {\n",
       "        vertical-align: middle;\n",
       "    }\n",
       "\n",
       "    .dataframe tbody tr th {\n",
       "        vertical-align: top;\n",
       "    }\n",
       "\n",
       "    .dataframe thead th {\n",
       "        text-align: right;\n",
       "    }\n",
       "</style>\n",
       "<table border=\"1\" class=\"dataframe\">\n",
       "  <thead>\n",
       "    <tr style=\"text-align: right;\">\n",
       "      <th></th>\n",
       "      <th>price</th>\n",
       "    </tr>\n",
       "    <tr>\n",
       "      <th>Segment</th>\n",
       "      <th></th>\n",
       "    </tr>\n",
       "  </thead>\n",
       "  <tbody>\n",
       "    <tr>\n",
       "      <th>Luxury</th>\n",
       "      <td>99101509</td>\n",
       "    </tr>\n",
       "    <tr>\n",
       "      <th>Premium</th>\n",
       "      <td>74835174</td>\n",
       "    </tr>\n",
       "    <tr>\n",
       "      <th>Low-Range</th>\n",
       "      <td>44807440</td>\n",
       "    </tr>\n",
       "    <tr>\n",
       "      <th>Mid-Range</th>\n",
       "      <td>44729131</td>\n",
       "    </tr>\n",
       "    <tr>\n",
       "      <th>Ultra-Luxury/Exotic</th>\n",
       "      <td>16938169</td>\n",
       "    </tr>\n",
       "    <tr>\n",
       "      <th>Unknown</th>\n",
       "      <td>6720781</td>\n",
       "    </tr>\n",
       "  </tbody>\n",
       "</table>\n",
       "</div>"
      ],
      "text/plain": [
       "                        price\n",
       "Segment                      \n",
       "Luxury               99101509\n",
       "Premium              74835174\n",
       "Low-Range            44807440\n",
       "Mid-Range            44729131\n",
       "Ultra-Luxury/Exotic  16938169\n",
       "Unknown               6720781"
      ]
     },
     "execution_count": 86,
     "metadata": {},
     "output_type": "execute_result"
    }
   ],
   "source": [
    "car.groupby('Segment')[['price']].sum().sort_values(\"price\",ascending=False)"
   ]
  },
  {
   "cell_type": "code",
   "execution_count": null,
   "id": "0eb9f84f-eca0-4c72-848f-68092d3ad154",
   "metadata": {},
   "outputs": [],
   "source": []
  }
 ],
 "metadata": {
  "kernelspec": {
   "display_name": "Python 3 (ipykernel)",
   "language": "python",
   "name": "python3"
  },
  "language_info": {
   "codemirror_mode": {
    "name": "ipython",
    "version": 3
   },
   "file_extension": ".py",
   "mimetype": "text/x-python",
   "name": "python",
   "nbconvert_exporter": "python",
   "pygments_lexer": "ipython3",
   "version": "3.12.7"
  }
 },
 "nbformat": 4,
 "nbformat_minor": 5
}
